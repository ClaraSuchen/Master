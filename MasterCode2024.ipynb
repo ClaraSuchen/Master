{
 "cells": [
  {
   "cell_type": "markdown",
   "metadata": {
    "id": "iLfulasGo3C1"
   },
   "source": [
    "## Load the data"
   ]
  },
  {
   "cell_type": "code",
   "execution_count": 1,
   "metadata": {
    "id": "U1h1nP5gpIv1"
   },
   "outputs": [],
   "source": [
    "\n",
    "import pandas as pd         \n",
    "from pathlib import Path   "
   ]
  },
  {
   "cell_type": "code",
   "execution_count": null,
   "metadata": {
    "colab": {
     "base_uri": "https://localhost:8080/"
    },
    "id": "r6bdAyoKoJkG",
    "outputId": "df8646e4-3d1d-4d0f-c257-631f1ac7e4a2"
   },
   "outputs": [],
   "source": []
  },
  {
   "cell_type": "code",
   "execution_count": null,
   "metadata": {},
   "outputs": [],
   "source": [
    "data_dir='C:/Users/Clara_einfach/Clara/Tilburg/Master/Code/Dataset/WISDM'"
   ]
  },
  {
   "cell_type": "code",
   "execution_count": null,
   "metadata": {
    "colab": {
     "base_uri": "https://localhost:8080/"
    },
    "id": "yW6CzvWbpPGe",
    "outputId": "6efc2318-abdc-4671-c722-19c0489cfa48"
   },
   "outputs": [
    {
     "name": "stdout",
     "output_type": "stream",
     "text": [
      "shape file full accel data (4804403, 6)\n",
      "shape file full gyro data  (3608635, 6)\n",
      "Number of matched rows: 2909149\n",
      "         user activity        timestamp   accel_x    accel_y       accel_z  \\\n",
      "0        1600        A  252207918580802 -4.332779  13.361191   -0.7188721;   \n",
      "1        1600        A  252207968934806 -0.319443  13.318359  -0.23202515;   \n",
      "2        1600        A  252208019288809  1.566452   9.515274  -0.01777649;   \n",
      "3        1600        A  252208069642813 -0.323746   5.262665   0.32234192;   \n",
      "4        1600        A  252208119996817 -1.811676   3.710510    1.3739319;   \n",
      "...       ...      ...              ...       ...        ...           ...   \n",
      "2909144  1650        S  357733977635000 -8.509504  -3.520679   -1.8226099;   \n",
      "2909145  1650        S  357734017925000 -8.423284  -4.061953   -1.7603394;   \n",
      "2909146  1650        S  357734058325000 -8.327483  -4.196074   -1.5711329;   \n",
      "2909147  1650        S  357734098619000 -8.080796  -4.418811   -1.4154567;   \n",
      "2909148  1650        S  357734138868000 -8.040081  -4.366121   -1.4968873;   \n",
      "\n",
      "           gyro_x    gyro_y        gyro_z  \n",
      "0       -0.853210  0.297226    0.8901825;  \n",
      "1       -0.875137  0.015472   0.16223145;  \n",
      "2       -0.720169  0.388489  -0.28401184;  \n",
      "3       -0.571640  1.227402   -0.2416687;  \n",
      "4       -0.380493  1.202835  -0.21313477;  \n",
      "...           ...       ...           ...  \n",
      "2909144  0.438889  0.171508   0.16937704;  \n",
      "2909145  0.444215  0.158724   0.19707392;  \n",
      "2909146  0.519849  0.037284   0.19600865;  \n",
      "2909147  0.545415 -0.086286   0.17896444;  \n",
      "2909148  0.471912 -0.201335   0.23222765;  \n",
      "\n",
      "[2909149 rows x 9 columns]\n"
     ]
    }
   ],
   "source": [
    "                                                                                        #name columns for two locations\n",
    "accel_columns = ['user', 'activity', 'timestamp', 'accel_x', 'accel_y', 'accel_z']\n",
    "gyro_columns = ['user', 'activity', 'timestamp', 'gyro_x', 'gyro_y', 'gyro_z']\n",
    "\n",
    "                                                                                        #function to looop over files in directory\n",
    "def load_files_from_directories(dirs):\n",
    "    all_files = []\n",
    "    for directory in dirs:\n",
    "        path = Path(directory)\n",
    "        all_files.extend(path.glob('*'))                                                # Load all files in the directory\n",
    "    return all_files\n",
    "\n",
    "                                                                                        #call locations and files\n",
    "directories = [data_dir+'/accel', data_dir+'/gyro']\n",
    "files = load_files_from_directories(directories)\n",
    "\n",
    "                                                                                        #list for the dataframes\n",
    "accel_dfs = []\n",
    "gyro_dfs = []\n",
    "\n",
    "                                                                                        #fill dataframes\n",
    "for idx, directory in enumerate(directories):\n",
    "    for file in Path(directory).glob('*'):\n",
    "        if idx == 0:                                                                    # For accelerometer files\n",
    "            df = pd.read_table(file, sep=',', header=None, names=accel_columns)\n",
    "            accel_dfs.append(df)\n",
    "        elif idx == 1:                                                                  # For gyroscope files\n",
    "            df = pd.read_table(file, sep=',', header=None, names=gyro_columns)\n",
    "            gyro_dfs.append(df)\n",
    "\n",
    "                                                                                        #combine files for two dataframes each\n",
    "full_accel_data = pd.concat(accel_dfs, ignore_index=True)\n",
    "full_gyro_data = pd.concat(gyro_dfs, ignore_index=True)\n",
    "\n",
    "                                                                                        #how long are the file?\n",
    "print(\"shape file full accel data\",full_accel_data.shape)\n",
    "print(\"shape file full gyro data \",full_gyro_data.shape)\n",
    "\n",
    "                                                                                        #merge to one on user, activity and timestamp\n",
    "merged_data = pd.merge(full_accel_data, full_gyro_data, on=['user', 'activity', 'timestamp'], how='inner')\n",
    "\n",
    "                                                                                        #check how many of the files could be matched:\n",
    "matched_rows_count = merged_data.shape[0]\n",
    "print(f\"Number of matched rows: {matched_rows_count}\")\n",
    "\n",
    "\n",
    "                                                                                        #name final columns\n",
    "final_columns = ['user',  'activity','timestamp', 'accel_x', 'accel_y', 'accel_z', 'gyro_x', 'gyro_y', 'gyro_z']\n",
    "merged_data = merged_data[final_columns]\n",
    "\n",
    "print(merged_data)"
   ]
  },
  {
   "cell_type": "code",
   "execution_count": null,
   "metadata": {},
   "outputs": [
    {
     "name": "stdout",
     "output_type": "stream",
     "text": [
      "Total rows in accelerometer data: 4804403\n",
      "Total rows in gyroscope data: 3608635\n",
      "Matched rows count: 2909149\n",
      "Percentage of matched rows for accelerometer data: 60.55%\n",
      "Percentage of matched rows for gyroscope data: 80.62%\n"
     ]
    }
   ],
   "source": [
    "                                                                                        #check matched files\n",
    "total_accel_rows = full_accel_data.shape[0]\n",
    "total_gyro_rows = full_gyro_data.shape[0]\n",
    "\n",
    "                                                                                        # Number of matched rows\n",
    "matched_rows_count = merged_data.shape[0]\n",
    "\n",
    "                                                                                        # Calculate the percentage of matched rows based on full accel data\n",
    "matched_percentage_accel = (matched_rows_count / total_accel_rows) * 100 \n",
    "\n",
    "                                                                                        #  Calculate the percentage of matched rows based on full gyro data\n",
    "matched_percentage_gyro = (matched_rows_count / total_gyro_rows) * 100 \n",
    "                                                                                        # print \n",
    "print(f\"Total rows in accelerometer data: {total_accel_rows}\")\n",
    "print(f\"Total rows in gyroscope data: {total_gyro_rows}\")\n",
    "print(f\"Matched rows count: {matched_rows_count}\")\n",
    "print(f\"Percentage of matched rows for accelerometer data: {matched_percentage_accel:.2f}%\")\n",
    "print(f\"Percentage of matched rows for gyroscope data: {matched_percentage_gyro:.2f}%\")"
   ]
  },
  {
   "cell_type": "markdown",
   "metadata": {
    "id": "yhnUESqZu2HT"
   },
   "source": [
    "#checking the files"
   ]
  },
  {
   "cell_type": "code",
   "execution_count": 4,
   "metadata": {
    "colab": {
     "base_uri": "https://localhost:8080/"
    },
    "id": "TRTtFzccu6bi",
    "outputId": "ce7868a6-2aa0-4b5a-a26c-7d8157922253"
   },
   "outputs": [
    {
     "name": "stdout",
     "output_type": "stream",
     "text": [
      "102\n",
      "[1600 1601 1602 1603 1604 1605 1606 1607 1608 1609 1610 1611 1612 1613\n",
      " 1614 1615 1616 1617 1618 1619 1620 1621 1622 1623 1624 1625 1626 1627\n",
      " 1628 1629 1630 1631 1632 1633 1634 1635 1636 1637 1638 1639 1640 1641\n",
      " 1642 1643 1644 1645 1646 1647 1648 1649 1650]\n"
     ]
    }
   ],
   "source": [
    "                                                                       #counting the files for participants\n",
    "\n",
    "count=0\n",
    "for idx, directory in enumerate(directories):\n",
    "    for file in Path(directory).glob('*'):\n",
    "\n",
    "      count=count+1                                                    #checking the amount of files: 51gyro+51accel\n",
    "print(count)\n",
    "                                                                       #short check of different users\n",
    "print(merged_data['user'].unique())                                    #merged 51\n",
    "\n"
   ]
  },
  {
   "cell_type": "markdown",
   "metadata": {
    "id": "AFO_axwOvPdj"
   },
   "source": [
    "## selected activites from the dataset"
   ]
  },
  {
   "cell_type": "code",
   "execution_count": 5,
   "metadata": {
    "colab": {
     "base_uri": "https://localhost:8080/"
    },
    "id": "AunPYUZuvYHL",
    "outputId": "66d86543-e512-4cff-854a-63d71286abdb"
   },
   "outputs": [
    {
     "name": "stdout",
     "output_type": "stream",
     "text": [
      "<class 'pandas.core.frame.DataFrame'>\n",
      "RangeIndex: 2909149 entries, 0 to 2909148\n",
      "Data columns (total 9 columns):\n",
      " #   Column     Dtype  \n",
      "---  ------     -----  \n",
      " 0   user       int64  \n",
      " 1   activity   object \n",
      " 2   timestamp  int64  \n",
      " 3   accel_x    float64\n",
      " 4   accel_y    float64\n",
      " 5   accel_z    object \n",
      " 6   gyro_x     float64\n",
      " 7   gyro_y     float64\n",
      " 8   gyro_z     object \n",
      "dtypes: float64(4), int64(2), object(3)\n",
      "memory usage: 199.8+ MB\n",
      "<class 'pandas.core.frame.DataFrame'>\n",
      "Index: 962598 entries, 0 to 2899401\n",
      "Data columns (total 9 columns):\n",
      " #   Column     Non-Null Count   Dtype  \n",
      "---  ------     --------------   -----  \n",
      " 0   user       962598 non-null  int64  \n",
      " 1   activity   962598 non-null  object \n",
      " 2   timestamp  962598 non-null  int64  \n",
      " 3   accel_x    962598 non-null  float64\n",
      " 4   accel_y    962598 non-null  float64\n",
      " 5   accel_z    962598 non-null  object \n",
      " 6   gyro_x     962598 non-null  float64\n",
      " 7   gyro_y     962598 non-null  float64\n",
      " 8   gyro_z     962598 non-null  object \n",
      "dtypes: float64(4), int64(2), object(3)\n",
      "memory usage: 73.4+ MB\n"
     ]
    }
   ],
   "source": [
    "                                                                        #select activities (walking, running, stairs, sitting, standing, kicking)\n",
    "merged_data.info()\n",
    "move6=merged_data[merged_data['activity'].isin(['A','B','C','D','E','M'])]\n",
    "move6.info()                                                            #print type"
   ]
  },
  {
   "cell_type": "markdown",
   "metadata": {
    "id": "VgISQYX1wVAi"
   },
   "source": [
    "# z_axis from object to float"
   ]
  },
  {
   "cell_type": "code",
   "execution_count": 6,
   "metadata": {
    "colab": {
     "base_uri": "https://localhost:8080/"
    },
    "id": "ks1OM3Mbwa8F",
    "outputId": "4363daea-244b-4a63-e6ac-db64b98cb703"
   },
   "outputs": [
    {
     "name": "stderr",
     "output_type": "stream",
     "text": [
      "C:\\Users\\Clara_einfach\\AppData\\Local\\Temp\\ipykernel_12676\\1694462143.py:2: SettingWithCopyWarning: \n",
      "A value is trying to be set on a copy of a slice from a DataFrame.\n",
      "Try using .loc[row_indexer,col_indexer] = value instead\n",
      "\n",
      "See the caveats in the documentation: https://pandas.pydata.org/pandas-docs/stable/user_guide/indexing.html#returning-a-view-versus-a-copy\n",
      "  move6['accel_z'] = move6['accel_z'].map(lambda x: x.rstrip(';'))\n",
      "C:\\Users\\Clara_einfach\\AppData\\Local\\Temp\\ipykernel_12676\\1694462143.py:3: SettingWithCopyWarning: \n",
      "A value is trying to be set on a copy of a slice from a DataFrame.\n",
      "Try using .loc[row_indexer,col_indexer] = value instead\n",
      "\n",
      "See the caveats in the documentation: https://pandas.pydata.org/pandas-docs/stable/user_guide/indexing.html#returning-a-view-versus-a-copy\n",
      "  move6['accel_z'] = move6['accel_z'].astype(float)                               #and datatype transformed to float like other time series\n",
      "C:\\Users\\Clara_einfach\\AppData\\Local\\Temp\\ipykernel_12676\\1694462143.py:4: SettingWithCopyWarning: \n",
      "A value is trying to be set on a copy of a slice from a DataFrame.\n",
      "Try using .loc[row_indexer,col_indexer] = value instead\n",
      "\n",
      "See the caveats in the documentation: https://pandas.pydata.org/pandas-docs/stable/user_guide/indexing.html#returning-a-view-versus-a-copy\n",
      "  move6['gyro_z'] = move6['gyro_z'].map(lambda x: x.rstrip(';'))\n"
     ]
    },
    {
     "name": "stdout",
     "output_type": "stream",
     "text": [
      "<class 'pandas.core.frame.DataFrame'>\n",
      "Index: 962598 entries, 0 to 2899401\n",
      "Data columns (total 9 columns):\n",
      " #   Column     Non-Null Count   Dtype  \n",
      "---  ------     --------------   -----  \n",
      " 0   user       962598 non-null  int64  \n",
      " 1   activity   962598 non-null  object \n",
      " 2   timestamp  962598 non-null  int64  \n",
      " 3   accel_x    962598 non-null  float64\n",
      " 4   accel_y    962598 non-null  float64\n",
      " 5   accel_z    962598 non-null  float64\n",
      " 6   gyro_x     962598 non-null  float64\n",
      " 7   gyro_y     962598 non-null  float64\n",
      " 8   gyro_z     962598 non-null  float64\n",
      "dtypes: float64(6), int64(2), object(1)\n",
      "memory usage: 73.4+ MB\n"
     ]
    },
    {
     "name": "stderr",
     "output_type": "stream",
     "text": [
      "C:\\Users\\Clara_einfach\\AppData\\Local\\Temp\\ipykernel_12676\\1694462143.py:5: SettingWithCopyWarning: \n",
      "A value is trying to be set on a copy of a slice from a DataFrame.\n",
      "Try using .loc[row_indexer,col_indexer] = value instead\n",
      "\n",
      "See the caveats in the documentation: https://pandas.pydata.org/pandas-docs/stable/user_guide/indexing.html#returning-a-view-versus-a-copy\n",
      "  move6['gyro_z'] = move6['gyro_z'].astype(float)\n"
     ]
    }
   ],
   "source": [
    "                                                                                # the last column was separated with ; and will be removed \n",
    "move6['accel_z'] = move6['accel_z'].map(lambda x: x.rstrip(';'))\n",
    "move6['accel_z'] = move6['accel_z'].astype(float)                               #and datatype transformed to float like other time series\n",
    "move6['gyro_z'] = move6['gyro_z'].map(lambda x: x.rstrip(';'))\n",
    "move6['gyro_z'] = move6['gyro_z'].astype(float)\n",
    "move6.info()"
   ]
  },
  {
   "cell_type": "markdown",
   "metadata": {
    "id": "qCBqem7bwujn"
   },
   "source": [
    "## training test split"
   ]
  },
  {
   "cell_type": "code",
   "execution_count": 7,
   "metadata": {
    "id": "78xLOQH_xAvR"
   },
   "outputs": [],
   "source": [
    "                                                                #packages\n",
    "from sklearn.model_selection import train_test_split\n",
    "\n",
    "import numpy as np"
   ]
  },
  {
   "cell_type": "code",
   "execution_count": null,
   "metadata": {
    "colab": {
     "base_uri": "https://localhost:8080/"
    },
    "id": "2AaJjoHYxKeq",
    "outputId": "8273f839-c9c7-417d-8d95-670d66390932"
   },
   "outputs": [
    {
     "name": "stderr",
     "output_type": "stream",
     "text": [
      "C:\\Users\\Clara_einfach\\AppData\\Local\\Temp\\ipykernel_12676\\1864348213.py:8: UserWarning: Boolean Series key will be reindexed to match DataFrame index.\n",
      "  user_data = move6[merged_data['user'] == user]\n",
      "C:\\Users\\Clara_einfach\\AppData\\Local\\Temp\\ipykernel_12676\\1864348213.py:8: UserWarning: Boolean Series key will be reindexed to match DataFrame index.\n",
      "  user_data = move6[merged_data['user'] == user]\n",
      "C:\\Users\\Clara_einfach\\AppData\\Local\\Temp\\ipykernel_12676\\1864348213.py:8: UserWarning: Boolean Series key will be reindexed to match DataFrame index.\n",
      "  user_data = move6[merged_data['user'] == user]\n",
      "C:\\Users\\Clara_einfach\\AppData\\Local\\Temp\\ipykernel_12676\\1864348213.py:8: UserWarning: Boolean Series key will be reindexed to match DataFrame index.\n",
      "  user_data = move6[merged_data['user'] == user]\n",
      "C:\\Users\\Clara_einfach\\AppData\\Local\\Temp\\ipykernel_12676\\1864348213.py:8: UserWarning: Boolean Series key will be reindexed to match DataFrame index.\n",
      "  user_data = move6[merged_data['user'] == user]\n",
      "C:\\Users\\Clara_einfach\\AppData\\Local\\Temp\\ipykernel_12676\\1864348213.py:8: UserWarning: Boolean Series key will be reindexed to match DataFrame index.\n",
      "  user_data = move6[merged_data['user'] == user]\n",
      "C:\\Users\\Clara_einfach\\AppData\\Local\\Temp\\ipykernel_12676\\1864348213.py:8: UserWarning: Boolean Series key will be reindexed to match DataFrame index.\n",
      "  user_data = move6[merged_data['user'] == user]\n",
      "C:\\Users\\Clara_einfach\\AppData\\Local\\Temp\\ipykernel_12676\\1864348213.py:8: UserWarning: Boolean Series key will be reindexed to match DataFrame index.\n",
      "  user_data = move6[merged_data['user'] == user]\n",
      "C:\\Users\\Clara_einfach\\AppData\\Local\\Temp\\ipykernel_12676\\1864348213.py:8: UserWarning: Boolean Series key will be reindexed to match DataFrame index.\n",
      "  user_data = move6[merged_data['user'] == user]\n",
      "C:\\Users\\Clara_einfach\\AppData\\Local\\Temp\\ipykernel_12676\\1864348213.py:8: UserWarning: Boolean Series key will be reindexed to match DataFrame index.\n",
      "  user_data = move6[merged_data['user'] == user]\n",
      "C:\\Users\\Clara_einfach\\AppData\\Local\\Temp\\ipykernel_12676\\1864348213.py:8: UserWarning: Boolean Series key will be reindexed to match DataFrame index.\n",
      "  user_data = move6[merged_data['user'] == user]\n",
      "C:\\Users\\Clara_einfach\\AppData\\Local\\Temp\\ipykernel_12676\\1864348213.py:8: UserWarning: Boolean Series key will be reindexed to match DataFrame index.\n",
      "  user_data = move6[merged_data['user'] == user]\n",
      "C:\\Users\\Clara_einfach\\AppData\\Local\\Temp\\ipykernel_12676\\1864348213.py:8: UserWarning: Boolean Series key will be reindexed to match DataFrame index.\n",
      "  user_data = move6[merged_data['user'] == user]\n",
      "C:\\Users\\Clara_einfach\\AppData\\Local\\Temp\\ipykernel_12676\\1864348213.py:8: UserWarning: Boolean Series key will be reindexed to match DataFrame index.\n",
      "  user_data = move6[merged_data['user'] == user]\n",
      "C:\\Users\\Clara_einfach\\AppData\\Local\\Temp\\ipykernel_12676\\1864348213.py:8: UserWarning: Boolean Series key will be reindexed to match DataFrame index.\n",
      "  user_data = move6[merged_data['user'] == user]\n",
      "C:\\Users\\Clara_einfach\\AppData\\Local\\Temp\\ipykernel_12676\\1864348213.py:8: UserWarning: Boolean Series key will be reindexed to match DataFrame index.\n",
      "  user_data = move6[merged_data['user'] == user]\n",
      "C:\\Users\\Clara_einfach\\AppData\\Local\\Temp\\ipykernel_12676\\1864348213.py:8: UserWarning: Boolean Series key will be reindexed to match DataFrame index.\n",
      "  user_data = move6[merged_data['user'] == user]\n",
      "C:\\Users\\Clara_einfach\\AppData\\Local\\Temp\\ipykernel_12676\\1864348213.py:8: UserWarning: Boolean Series key will be reindexed to match DataFrame index.\n",
      "  user_data = move6[merged_data['user'] == user]\n",
      "C:\\Users\\Clara_einfach\\AppData\\Local\\Temp\\ipykernel_12676\\1864348213.py:8: UserWarning: Boolean Series key will be reindexed to match DataFrame index.\n",
      "  user_data = move6[merged_data['user'] == user]\n",
      "C:\\Users\\Clara_einfach\\AppData\\Local\\Temp\\ipykernel_12676\\1864348213.py:8: UserWarning: Boolean Series key will be reindexed to match DataFrame index.\n",
      "  user_data = move6[merged_data['user'] == user]\n",
      "C:\\Users\\Clara_einfach\\AppData\\Local\\Temp\\ipykernel_12676\\1864348213.py:8: UserWarning: Boolean Series key will be reindexed to match DataFrame index.\n",
      "  user_data = move6[merged_data['user'] == user]\n",
      "C:\\Users\\Clara_einfach\\AppData\\Local\\Temp\\ipykernel_12676\\1864348213.py:8: UserWarning: Boolean Series key will be reindexed to match DataFrame index.\n",
      "  user_data = move6[merged_data['user'] == user]\n",
      "C:\\Users\\Clara_einfach\\AppData\\Local\\Temp\\ipykernel_12676\\1864348213.py:8: UserWarning: Boolean Series key will be reindexed to match DataFrame index.\n",
      "  user_data = move6[merged_data['user'] == user]\n",
      "C:\\Users\\Clara_einfach\\AppData\\Local\\Temp\\ipykernel_12676\\1864348213.py:8: UserWarning: Boolean Series key will be reindexed to match DataFrame index.\n",
      "  user_data = move6[merged_data['user'] == user]\n",
      "C:\\Users\\Clara_einfach\\AppData\\Local\\Temp\\ipykernel_12676\\1864348213.py:8: UserWarning: Boolean Series key will be reindexed to match DataFrame index.\n",
      "  user_data = move6[merged_data['user'] == user]\n",
      "C:\\Users\\Clara_einfach\\AppData\\Local\\Temp\\ipykernel_12676\\1864348213.py:8: UserWarning: Boolean Series key will be reindexed to match DataFrame index.\n",
      "  user_data = move6[merged_data['user'] == user]\n",
      "C:\\Users\\Clara_einfach\\AppData\\Local\\Temp\\ipykernel_12676\\1864348213.py:8: UserWarning: Boolean Series key will be reindexed to match DataFrame index.\n",
      "  user_data = move6[merged_data['user'] == user]\n",
      "C:\\Users\\Clara_einfach\\AppData\\Local\\Temp\\ipykernel_12676\\1864348213.py:8: UserWarning: Boolean Series key will be reindexed to match DataFrame index.\n",
      "  user_data = move6[merged_data['user'] == user]\n",
      "C:\\Users\\Clara_einfach\\AppData\\Local\\Temp\\ipykernel_12676\\1864348213.py:8: UserWarning: Boolean Series key will be reindexed to match DataFrame index.\n",
      "  user_data = move6[merged_data['user'] == user]\n",
      "C:\\Users\\Clara_einfach\\AppData\\Local\\Temp\\ipykernel_12676\\1864348213.py:8: UserWarning: Boolean Series key will be reindexed to match DataFrame index.\n",
      "  user_data = move6[merged_data['user'] == user]\n",
      "C:\\Users\\Clara_einfach\\AppData\\Local\\Temp\\ipykernel_12676\\1864348213.py:8: UserWarning: Boolean Series key will be reindexed to match DataFrame index.\n",
      "  user_data = move6[merged_data['user'] == user]\n",
      "C:\\Users\\Clara_einfach\\AppData\\Local\\Temp\\ipykernel_12676\\1864348213.py:8: UserWarning: Boolean Series key will be reindexed to match DataFrame index.\n",
      "  user_data = move6[merged_data['user'] == user]\n",
      "C:\\Users\\Clara_einfach\\AppData\\Local\\Temp\\ipykernel_12676\\1864348213.py:8: UserWarning: Boolean Series key will be reindexed to match DataFrame index.\n",
      "  user_data = move6[merged_data['user'] == user]\n",
      "C:\\Users\\Clara_einfach\\AppData\\Local\\Temp\\ipykernel_12676\\1864348213.py:8: UserWarning: Boolean Series key will be reindexed to match DataFrame index.\n",
      "  user_data = move6[merged_data['user'] == user]\n",
      "C:\\Users\\Clara_einfach\\AppData\\Local\\Temp\\ipykernel_12676\\1864348213.py:8: UserWarning: Boolean Series key will be reindexed to match DataFrame index.\n",
      "  user_data = move6[merged_data['user'] == user]\n",
      "C:\\Users\\Clara_einfach\\AppData\\Local\\Temp\\ipykernel_12676\\1864348213.py:8: UserWarning: Boolean Series key will be reindexed to match DataFrame index.\n",
      "  user_data = move6[merged_data['user'] == user]\n",
      "C:\\Users\\Clara_einfach\\AppData\\Local\\Temp\\ipykernel_12676\\1864348213.py:8: UserWarning: Boolean Series key will be reindexed to match DataFrame index.\n",
      "  user_data = move6[merged_data['user'] == user]\n",
      "C:\\Users\\Clara_einfach\\AppData\\Local\\Temp\\ipykernel_12676\\1864348213.py:8: UserWarning: Boolean Series key will be reindexed to match DataFrame index.\n",
      "  user_data = move6[merged_data['user'] == user]\n",
      "C:\\Users\\Clara_einfach\\AppData\\Local\\Temp\\ipykernel_12676\\1864348213.py:8: UserWarning: Boolean Series key will be reindexed to match DataFrame index.\n",
      "  user_data = move6[merged_data['user'] == user]\n",
      "C:\\Users\\Clara_einfach\\AppData\\Local\\Temp\\ipykernel_12676\\1864348213.py:8: UserWarning: Boolean Series key will be reindexed to match DataFrame index.\n",
      "  user_data = move6[merged_data['user'] == user]\n",
      "C:\\Users\\Clara_einfach\\AppData\\Local\\Temp\\ipykernel_12676\\1864348213.py:8: UserWarning: Boolean Series key will be reindexed to match DataFrame index.\n",
      "  user_data = move6[merged_data['user'] == user]\n",
      "C:\\Users\\Clara_einfach\\AppData\\Local\\Temp\\ipykernel_12676\\1864348213.py:8: UserWarning: Boolean Series key will be reindexed to match DataFrame index.\n",
      "  user_data = move6[merged_data['user'] == user]\n",
      "C:\\Users\\Clara_einfach\\AppData\\Local\\Temp\\ipykernel_12676\\1864348213.py:8: UserWarning: Boolean Series key will be reindexed to match DataFrame index.\n",
      "  user_data = move6[merged_data['user'] == user]\n",
      "C:\\Users\\Clara_einfach\\AppData\\Local\\Temp\\ipykernel_12676\\1864348213.py:8: UserWarning: Boolean Series key will be reindexed to match DataFrame index.\n",
      "  user_data = move6[merged_data['user'] == user]\n",
      "C:\\Users\\Clara_einfach\\AppData\\Local\\Temp\\ipykernel_12676\\1864348213.py:8: UserWarning: Boolean Series key will be reindexed to match DataFrame index.\n",
      "  user_data = move6[merged_data['user'] == user]\n",
      "C:\\Users\\Clara_einfach\\AppData\\Local\\Temp\\ipykernel_12676\\1864348213.py:8: UserWarning: Boolean Series key will be reindexed to match DataFrame index.\n",
      "  user_data = move6[merged_data['user'] == user]\n",
      "C:\\Users\\Clara_einfach\\AppData\\Local\\Temp\\ipykernel_12676\\1864348213.py:8: UserWarning: Boolean Series key will be reindexed to match DataFrame index.\n",
      "  user_data = move6[merged_data['user'] == user]\n",
      "C:\\Users\\Clara_einfach\\AppData\\Local\\Temp\\ipykernel_12676\\1864348213.py:8: UserWarning: Boolean Series key will be reindexed to match DataFrame index.\n",
      "  user_data = move6[merged_data['user'] == user]\n",
      "C:\\Users\\Clara_einfach\\AppData\\Local\\Temp\\ipykernel_12676\\1864348213.py:8: UserWarning: Boolean Series key will be reindexed to match DataFrame index.\n",
      "  user_data = move6[merged_data['user'] == user]\n"
     ]
    },
    {
     "name": "stdout",
     "output_type": "stream",
     "text": [
      "Training Data:\n",
      "   user activity        timestamp   accel_x    accel_y   accel_z    gyro_x  \\\n",
      "0  1600        A  252207918580802 -4.332779  13.361191 -0.718872 -0.853210   \n",
      "1  1600        A  252207968934806 -0.319443  13.318359 -0.232025 -0.875137   \n",
      "2  1600        A  252208019288809  1.566452   9.515274 -0.017776 -0.720169   \n",
      "3  1600        A  252208069642813 -0.323746   5.262665  0.322342 -0.571640   \n",
      "4  1600        A  252208119996817 -1.811676   3.710510  1.373932 -0.380493   \n",
      "\n",
      "     gyro_y    gyro_z  \n",
      "0  0.297226  0.890182  \n",
      "1  0.015472  0.162231  \n",
      "2  0.388489 -0.284012  \n",
      "3  1.227402 -0.241669  \n",
      "4  1.202835 -0.213135  \n",
      "Validation Data:\n",
      "   user activity        timestamp   accel_x    accel_y   accel_z    gyro_x  \\\n",
      "0  1600        A  252315726504993 -1.022568  10.587906 -0.038254  0.483643   \n",
      "1  1600        A  252315776858997 -4.283859  12.623840 -4.597519  0.093338   \n",
      "2  1600        A  252315827213001 -6.712646  10.446396 -1.323807 -0.825363   \n",
      "3  1600        A  252315877567005 -2.404923  13.632400  1.103317 -0.912323   \n",
      "4  1600        A  252315927921009  0.416656  11.535660  0.637085 -0.757919   \n",
      "\n",
      "     gyro_y    gyro_z  \n",
      "0  0.224609  0.143570  \n",
      "1 -0.025879  0.558914  \n",
      "2  0.201248  1.142578  \n",
      "3 -0.181915  0.525345  \n",
      "4 -0.093094 -0.383102  \n",
      "Testing Data:\n",
      "   user activity        timestamp   accel_x    accel_y   accel_z    gyro_x  \\\n",
      "0  1600        A  252351679266678 -5.240692  11.171951 -2.401276 -0.577744   \n",
      "1  1600        A  252351729620682 -2.532593  11.554413 -0.566650 -0.945251   \n",
      "2  1600        A  252351779974686 -0.823105   9.890472  0.124939 -0.849411   \n",
      "3  1600        A  252351830328690 -0.006638   5.581665  0.080551 -0.545044   \n",
      "4  1600        A  252351880682694 -1.128510   3.563293  0.388779 -0.426086   \n",
      "\n",
      "     gyro_y    gyro_z  \n",
      "0  0.050293  0.912277  \n",
      "1 -0.007019  0.291245  \n",
      "2  0.243195 -0.204224  \n",
      "3  1.258026 -0.054047  \n",
      "4  1.542389 -0.140869  \n"
     ]
    },
    {
     "name": "stderr",
     "output_type": "stream",
     "text": [
      "C:\\Users\\Clara_einfach\\AppData\\Local\\Temp\\ipykernel_12676\\1864348213.py:8: UserWarning: Boolean Series key will be reindexed to match DataFrame index.\n",
      "  user_data = move6[merged_data['user'] == user]\n"
     ]
    }
   ],
   "source": [
    "                                                                #three dataframes\n",
    "train_data = pd.DataFrame()\n",
    "val_data = pd.DataFrame()\n",
    "test_data = pd.DataFrame()\n",
    "\n",
    "                                                                #iterate through users\n",
    "for user in move6['user'].unique():\n",
    "    user_data = move6[merged_data['user'] == user]\n",
    "\n",
    "                                                                #iterate through activities for each user\n",
    "    for activity in user_data['activity'].unique():\n",
    "        activity_data = user_data[user_data['activity'] == activity]\n",
    "\n",
    "                                                                #sorted by timestamp (important to keep sorted order for ts)\n",
    "        activity_data = activity_data.sort_values(by='timestamp')\n",
    "\n",
    "                                                                #calculate split index per person per activity\n",
    "        train_index= int(len(activity_data)*0.6)\n",
    "        val_index= int(len(activity_data)*0.8)\n",
    "\n",
    "                                                                #split data by index\n",
    "        train_split= activity_data.iloc[:train_index]\n",
    "        val_split = activity_data.iloc[train_index:val_index]\n",
    "        test_split = activity_data.iloc[val_index:]\n",
    "\n",
    "                                                                #append to train, validation and test dataframes\n",
    "        train_data = pd.concat([train_data, train_split], ignore_index=True)\n",
    "        val_data = pd.concat([val_data,val_split],ignore_index=True)\n",
    "        test_data = pd.concat([test_data, test_split], ignore_index=True)\n",
    "                                                                #print overview\n",
    "print(\"Training Data:\")\n",
    "print(train_data.head())\n",
    "print(\"Validation Data:\")\n",
    "print(val_data.head())\n",
    "print(\"Testing Data:\")\n",
    "print(test_data.head())"
   ]
  },
  {
   "cell_type": "markdown",
   "metadata": {
    "id": "oDxxRxuNzgZ0"
   },
   "source": [
    "## visualize"
   ]
  },
  {
   "cell_type": "code",
   "execution_count": 9,
   "metadata": {
    "id": "2tQH_7el0h_a"
   },
   "outputs": [],
   "source": [
    "import matplotlib.pyplot as plt                     #packages"
   ]
  },
  {
   "cell_type": "markdown",
   "metadata": {
    "id": "nlk2B1XLHXvv"
   },
   "source": [
    "# visualization of training test split"
   ]
  },
  {
   "cell_type": "code",
   "execution_count": 10,
   "metadata": {
    "colab": {
     "base_uri": "https://localhost:8080/",
     "height": 472
    },
    "id": "daO0v7bbHW7W",
    "outputId": "bb827afc-5272-493c-eb92-28f405a5ca68"
   },
   "outputs": [
    {
     "data": {
      "image/png": "[encoded data removed]",
      "text/plain": [
       "<Figure size 640x480 with 1 Axes>"
      ]
     },
     "metadata": {},
     "output_type": "display_data"
    }
   ],
   "source": [
    "                                                                                            # data sample for one activity and one participant for three parts of the same ts\n",
    "filteredtrain=train_data[(train_data['activity']=='A')&(train_data['user']==1601)]\n",
    "filteredval=val_data[(val_data['activity']=='A')&(val_data['user']==1601)]\n",
    "filteredtest=test_data[(test_data['activity']=='A')&(test_data['user']==1601)]\n",
    "                                                                                            # plot accelerometer data on timestamp \n",
    "plt.plot(filteredtrain['timestamp'],filteredtrain['accel_x'],label='train')\n",
    "plt.plot(filteredval['timestamp'], filteredval['accel_x'], label='validation')\n",
    "plt.plot(filteredtest['timestamp'],filteredtest['accel_x'],label='test')\n",
    "plt.legend()\n",
    "plt.title(\"The example of participant 2 (1601) - Walking\")\n",
    "plt.xlabel(\"timestamp\")\n",
    "plt.ylabel(\"accel_x\")\n",
    "plt.show()"
   ]
  },
  {
   "cell_type": "markdown",
   "metadata": {},
   "source": [
    "# visualize \n",
    "A=Walking, B=jogging, C=Stairs, D=Sitting, E=Standing, M=kicking"
   ]
  },
  {
   "cell_type": "code",
   "execution_count": null,
   "metadata": {},
   "outputs": [
    {
     "data": {
      "image/png": "[encoded data removed]",
      "text/plain": [
       "<Figure size 640x480 with 6 Axes>"
      ]
     },
     "metadata": {},
     "output_type": "display_data"
    }
   ],
   "source": [
    "                                                                #visualize activities with example accelerometer x train data for one participant (nr2) 1601\n",
    "\n",
    "fig,ax=plt.subplots(2,3)\n",
    "ax=ax.flatten()\n",
    "activities= train_data['activity'].unique()                     # \n",
    "for i, activity in enumerate(activities):                       # loop over activities to make a graph for each\n",
    "                                                                #filter data for user\n",
    "  filtered=train_data[(train_data['activity']==activity)&(train_data['user']==1601)]\n",
    "                                                                \n",
    "  ax[i].plot(filtered.index,filtered['accel_x'] )               \n",
    "\n",
    "plt.tight_layout()\n",
    "plt.show()\n",
    "\n",
    "\n",
    " "
   ]
  },
  {
   "cell_type": "markdown",
   "metadata": {
    "id": "8z3abwMGzvdz"
   },
   "source": [
    "## check missings"
   ]
  },
  {
   "cell_type": "code",
   "execution_count": 11,
   "metadata": {
    "colab": {
     "base_uri": "https://localhost:8080/"
    },
    "id": "BAQUHu3Dz3Ho",
    "outputId": "addfa6c1-4c43-4e73-8bc4-9c69acb3e7e3"
   },
   "outputs": [
    {
     "name": "stdout",
     "output_type": "stream",
     "text": [
      "user         0\n",
      "activity     0\n",
      "timestamp    0\n",
      "accel_x      0\n",
      "accel_y      0\n",
      "accel_z      0\n",
      "gyro_x       0\n",
      "gyro_y       0\n",
      "gyro_z       0\n",
      "dtype: int64\n"
     ]
    }
   ],
   "source": [
    "\n",
    "missi=train_data.isna().sum()\n",
    "print(missi)"
   ]
  },
  {
   "cell_type": "code",
   "execution_count": null,
   "metadata": {},
   "outputs": [],
   "source": [
    "                                                                                # copy of dataframe for next step\n",
    "train_norm = train_data.copy()\n",
    "val_norm = val_data.copy()\n",
    "test_norm = test_data.copy()"
   ]
  },
  {
   "cell_type": "markdown",
   "metadata": {},
   "source": [
    "## Features"
   ]
  },
  {
   "cell_type": "code",
   "execution_count": null,
   "metadata": {},
   "outputs": [],
   "source": [
    "coordinates = ['accel_x','accel_y','accel_z','gyro_x','gyro_y','gyro_z']         # name of columns with raw data"
   ]
  },
  {
   "cell_type": "code",
   "execution_count": null,
   "metadata": {},
   "outputs": [],
   "source": [
    "                                                                                # mean of windows over accel x,y,z, gyro x,y,z for train,val and test data\n",
    "for dat in coordinates:                                                         # loop over all raw time series\n",
    "  train_norm[f'{dat}_mean_rol']=train_norm[dat].rolling(window=120).mean()      # rolling mean for training data\n",
    "  val_norm[f'{dat}_mean_rol']=val_norm[dat].rolling(window=120).mean()          # rolling mean for validation data  \n",
    "  test_norm[f'{dat}_mean_rol']=test_norm[dat].rolling(window=120).mean()        # rolling mean for test data"
   ]
  },
  {
   "cell_type": "code",
   "execution_count": null,
   "metadata": {},
   "outputs": [],
   "source": [
    "                                                                                # standard deviation of windows over accel x,y,z, gyro x,y,z for train,val and test data\n",
    "for dat in coordinates:\n",
    "  train_norm[f'{dat}_std_rol']=train_norm[dat].rolling(window=120).std()\n",
    "  val_norm[f'{dat}_std_rol']=val_norm[dat].rolling(window=120).std()\n",
    "  test_norm[f'{dat}_std_rol']=test_norm[dat].rolling(window=120).std()"
   ]
  },
  {
   "cell_type": "code",
   "execution_count": null,
   "metadata": {},
   "outputs": [
    {
     "name": "stdout",
     "output_type": "stream",
     "text": [
      "(577452, 21)\n"
     ]
    }
   ],
   "source": [
    "#checking the amount of variables 3 + 6 + 6 + 6 = 21 (descriptives, x,y,z,x,y,z, mean x,y,z,x,y,z, std x,y,z,x,y,z)\n",
    "print(train_norm.shape)             # yes"
   ]
  },
  {
   "cell_type": "code",
   "execution_count": 29,
   "metadata": {},
   "outputs": [],
   "source": [
    "                                                                                  # variance \n",
    "for dat in coordinates:\n",
    "  train_norm[f'{dat}_var_rol']=train_norm[dat].rolling(window=120).var()\n",
    "  val_norm[f'{dat}_var_rol']=val_norm[dat].rolling(window=120).var()\n",
    "  test_norm[f'{dat}_var_rol']=test_norm[dat].rolling(window=120).var()"
   ]
  },
  {
   "cell_type": "code",
   "execution_count": 30,
   "metadata": {},
   "outputs": [],
   "source": [
    "                                                                                  # skewness \n",
    "for dat in coordinates:\n",
    "  train_norm[f'{dat}_skew_rol']=train_norm[dat].rolling(window=120).skew()\n",
    "  val_norm[f'{dat}_skew_rol']=val_norm[dat].rolling(window=120).skew()\n",
    "  test_norm[f'{dat}_skew_rol']=test_norm[dat].rolling(window=120).skew()"
   ]
  },
  {
   "cell_type": "code",
   "execution_count": 31,
   "metadata": {},
   "outputs": [],
   "source": [
    "                                                                                  # kurtosis \n",
    "\n",
    "for dat in coordinates:\n",
    "  train_norm[f'{dat}_kurt_rol']=train_norm[dat].rolling(window=120).kurt()\n",
    "  val_norm[f'{dat}_kurt_rol']=val_norm[dat].rolling(window=120).kurt()\n",
    "  test_norm[f'{dat}_kurt_rol']=test_norm[dat].rolling(window=120).kurt()"
   ]
  },
  {
   "cell_type": "code",
   "execution_count": 32,
   "metadata": {},
   "outputs": [],
   "source": [
    "                                                                                  # Root Mean Square of windows \n",
    "\n",
    "for dat in coordinates:\n",
    "  train_norm[f'{dat}_rms_rol']=np.sqrt(train_norm[dat].pow(2).rolling(window=120).mean())\n",
    "  val_norm[f'{dat}_rms_rol']=np.sqrt(val_norm[dat].pow(2).rolling(window=120).mean())\n",
    "  test_norm[f'{dat}_rms_rol']=np.sqrt(test_norm[dat].pow(2).rolling(window=120).mean())\n"
   ]
  },
  {
   "cell_type": "markdown",
   "metadata": {},
   "source": [
    "## FFT Entropy and DFA"
   ]
  },
  {
   "cell_type": "code",
   "execution_count": null,
   "metadata": {},
   "outputs": [],
   "source": [
    "                                                                                  # Spectral Entropy with .rolling()\n",
    "\n",
    "def spectral_entropy(time_series):                                                # a function for: \n",
    "                                                                                  # Apply FFT\n",
    "    fft = np.fft.fft(time_series)\n",
    "    \n",
    "                                                                                  # Compute Power Spectrum\n",
    "    power_spectrum = np.abs(fft)**2\n",
    "    \n",
    "                                                                                  # Normalize Power Spectrum\n",
    "    power_spectrum_normalized = power_spectrum / np.sum(power_spectrum)\n",
    "    \n",
    "                                                                                  # Compute Spectral Entropy  (negative sum of normalized power spectrum multiplied by the logarithm of the normalized powerspectrum)\n",
    "    spectral_entropy_value = -np.sum(power_spectrum_normalized[power_spectrum_normalized > 0] * np.log2(power_spectrum_normalized[power_spectrum_normalized > 0]))\n",
    "    \n",
    "    return spectral_entropy_value\n",
    "\n",
    "\n",
    "                                                                                  # set size rolling window \n",
    "window_size = 120  \n",
    "\n",
    "for dat in coordinates:                                                           # calculate function (Spectral Entropy) over the time series\n",
    "  train_norm[f'{dat}_SpecEnt_rol'] = train_norm[dat].rolling(window=window_size).apply(lambda x: spectral_entropy(x.values), raw=False) # for trainings data\n",
    "  val_norm[f'{dat}_SpecEnt_rol'] = val_norm[dat].rolling(window=window_size).apply(lambda x: spectral_entropy(x.values), raw=False)     # for validation data\n",
    "  test_norm[f'{dat}_SpecEnt_rol'] = test_norm[dat].rolling(window=window_size).apply(lambda x: spectral_entropy(x.values), raw=False)"
   ]
  },
  {
   "cell_type": "code",
   "execution_count": null,
   "metadata": {},
   "outputs": [
    {
     "name": "stdout",
     "output_type": "stream",
     "text": [
      "Rolling Spectral Entropy:\n",
      "count    577333.000000\n",
      "mean          2.678056\n",
      "std           2.271702\n",
      "min           0.000015\n",
      "25%           0.104579\n",
      "50%           2.704012\n",
      "75%           4.929329\n",
      "max           6.678196\n",
      "Name: accel_x_SpecEnt_rol, dtype: float64\n"
     ]
    }
   ],
   "source": [
    "print(\"Rolling Spectral Entropy:\")                                                # short overview over Spectral Entropy\n",
    "print(train_norm['accel_x_SpecEnt_rol'].describe())"
   ]
  },
  {
   "cell_type": "markdown",
   "metadata": {},
   "source": [
    "# Scaling features before DFA and after for the rest \n",
    "DFA is sensitive to scales, the variables are different and for the rest it is more info when scaled later"
   ]
  },
  {
   "cell_type": "code",
   "execution_count": 19,
   "metadata": {},
   "outputs": [],
   "source": [
    "from sklearn.preprocessing import MinMaxScaler"
   ]
  },
  {
   "cell_type": "code",
   "execution_count": 33,
   "metadata": {},
   "outputs": [
    {
     "name": "stdout",
     "output_type": "stream",
     "text": [
      "['accel_x', 'accel_y', 'accel_z', 'gyro_x', 'gyro_y', 'gyro_z', 'accel_x_mean_rol', 'accel_y_mean_rol', 'accel_z_mean_rol', 'gyro_x_mean_rol', 'gyro_y_mean_rol', 'gyro_z_mean_rol', 'accel_x_std_rol', 'accel_y_std_rol', 'accel_z_std_rol', 'gyro_x_std_rol', 'gyro_y_std_rol', 'gyro_z_std_rol', 'accel_x_SpecEnt_rol', 'accel_y_SpecEnt_rol', 'accel_z_SpecEnt_rol', 'gyro_x_SpecEnt_rol', 'gyro_y_SpecEnt_rol', 'gyro_z_SpecEnt_rol', 'accel_x_var_rol', 'accel_y_var_rol', 'accel_z_var_rol', 'gyro_x_var_rol', 'gyro_y_var_rol', 'gyro_z_var_rol', 'accel_x_skew_rol', 'accel_y_skew_rol', 'accel_z_skew_rol', 'gyro_x_skew_rol', 'gyro_y_skew_rol', 'gyro_z_skew_rol', 'accel_x_kurt_rol', 'accel_y_kurt_rol', 'accel_z_kurt_rol', 'gyro_x_kurt_rol', 'gyro_y_kurt_rol', 'gyro_z_kurt_rol', 'accel_x_rms_rol', 'accel_y_rms_rol', 'accel_z_rms_rol', 'gyro_x_rms_rol', 'gyro_y_rms_rol', 'gyro_z_rms_rol']\n"
     ]
    }
   ],
   "source": [
    "train_without_objects = train_norm.copy()                           # make a df for all non descriptives and label \n",
    "\n",
    "                                                                    # Drop the specified columns\n",
    "without_objects = train_without_objects.drop(columns=['user', 'activity', 'timestamp'])\n",
    "floatfeatures=without_objects.columns.tolist()\n",
    "                                                                    # Display the modified DataFrame\n",
    "print(floatfeatures)"
   ]
  },
  {
   "cell_type": "code",
   "execution_count": 34,
   "metadata": {},
   "outputs": [
    {
     "name": "stdout",
     "output_type": "stream",
     "text": [
      "train scale:          user activity        timestamp   accel_x   accel_y   accel_z  \\\n",
      "0       1600        A  252207918580802  0.498935  0.858640  0.515690   \n",
      "1       1600        A  252207968934806  0.525942  0.858166  0.521181   \n",
      "2       1600        A  252208019288809  0.538632  0.816054  0.523597   \n",
      "3       1600        A  252208069642813  0.525913  0.768964  0.527434   \n",
      "4       1600        A  252208119996817  0.515900  0.751777  0.539294   \n",
      "...      ...      ...              ...       ...       ...       ...   \n",
      "577447  1650        M  360426730666000  0.511926  0.605697  0.576445   \n",
      "577448  1650        M  360426770980000  0.518131  0.625852  0.570908   \n",
      "577449  1650        M  360426811276000  0.547254  0.640412  0.545732   \n",
      "577450  1650        M  360426851580000  0.563419  0.627735  0.571664   \n",
      "577451  1650        M  360426891888000  0.556585  0.599544  0.568828   \n",
      "\n",
      "          gyro_x    gyro_y    gyro_z  accel_x_mean_rol  ...  accel_z_kurt_rol  \\\n",
      "0       0.481118  0.586534  0.647200               NaN  ...               NaN   \n",
      "1       0.480491  0.581849  0.626824               NaN  ...               NaN   \n",
      "2       0.484925  0.588052  0.614334               NaN  ...               NaN   \n",
      "3       0.489176  0.602001  0.615519               NaN  ...               NaN   \n",
      "4       0.494646  0.601592  0.616318               NaN  ...               NaN   \n",
      "...          ...       ...       ...               ...  ...               ...   \n",
      "577447  0.515929  0.575871  0.625981          0.502560  ...          0.057974   \n",
      "577448  0.518154  0.567493  0.625534          0.500882  ...          0.056780   \n",
      "577449  0.520013  0.562587  0.617125          0.501026  ...          0.057025   \n",
      "577450  0.524586  0.573994  0.603111          0.501797  ...          0.055308   \n",
      "577451  0.518520  0.570256  0.610715          0.504725  ...          0.053859   \n",
      "\n",
      "        gyro_x_kurt_rol  gyro_y_kurt_rol  gyro_z_kurt_rol  accel_x_rms_rol  \\\n",
      "0                   NaN              NaN              NaN              NaN   \n",
      "1                   NaN              NaN              NaN              NaN   \n",
      "2                   NaN              NaN              NaN              NaN   \n",
      "3                   NaN              NaN              NaN              NaN   \n",
      "4                   NaN              NaN              NaN              NaN   \n",
      "...                 ...              ...              ...              ...   \n",
      "577447         0.017375         0.040442         0.020340         0.136483   \n",
      "577448         0.016849         0.037602         0.020876         0.135865   \n",
      "577449         0.016269         0.036763         0.021248         0.136044   \n",
      "577450         0.015458         0.037212         0.020816         0.137548   \n",
      "577451         0.014914         0.036965         0.021264         0.137917   \n",
      "\n",
      "        accel_y_rms_rol  accel_z_rms_rol  gyro_x_rms_rol  gyro_y_rms_rol  \\\n",
      "0                   NaN              NaN             NaN             NaN   \n",
      "1                   NaN              NaN             NaN             NaN   \n",
      "2                   NaN              NaN             NaN             NaN   \n",
      "3                   NaN              NaN             NaN             NaN   \n",
      "4                   NaN              NaN             NaN             NaN   \n",
      "...                 ...              ...             ...             ...   \n",
      "577447         0.490074         0.214855        0.063385        0.077905   \n",
      "577448         0.490025         0.217008        0.063611        0.074824   \n",
      "577449         0.489652         0.217247        0.063944        0.073347   \n",
      "577450         0.488934         0.219355        0.064743        0.072023   \n",
      "577451         0.488521         0.220328        0.065127        0.072262   \n",
      "\n",
      "        gyro_z_rms_rol  \n",
      "0                  NaN  \n",
      "1                  NaN  \n",
      "2                  NaN  \n",
      "3                  NaN  \n",
      "4                  NaN  \n",
      "...                ...  \n",
      "577447        0.071781  \n",
      "577448        0.071263  \n",
      "577449        0.069804  \n",
      "577450        0.069218  \n",
      "577451        0.068819  \n",
      "\n",
      "[577452 rows x 51 columns]\n",
      "val scale:          user activity        timestamp   accel_x   accel_y   accel_z  \\\n",
      "0       1600        A  252315726504993  0.521210  0.827931  0.523367   \n",
      "1       1600        A  252315776858997  0.499264  0.850475  0.471944   \n",
      "2       1600        A  252315827213001  0.482920  0.826364  0.508867   \n",
      "3       1600        A  252315877567005  0.511908  0.861643  0.536242   \n",
      "4       1600        A  252315927921009  0.530895  0.838426  0.530983   \n",
      "...      ...      ...              ...       ...       ...       ...   \n",
      "192536  1650        M  360460788466000  0.555006  0.614713  0.546137   \n",
      "192537  1650        M  360460828802000  0.554232  0.619514  0.545489   \n",
      "192538  1650        M  360460869105000  0.552782  0.619699  0.547407   \n",
      "192539  1650        M  360460909407000  0.552282  0.621688  0.548622   \n",
      "192540  1650        M  360460949663000  0.553684  0.630016  0.551621   \n",
      "\n",
      "          gyro_x    gyro_y    gyro_z  accel_x_mean_rol  ...  accel_z_kurt_rol  \\\n",
      "0       0.519374  0.585327  0.626302               NaN  ...               NaN   \n",
      "1       0.508205  0.581162  0.637927               NaN  ...               NaN   \n",
      "2       0.481915  0.584938  0.654264               NaN  ...               NaN   \n",
      "3       0.479427  0.578567  0.636988               NaN  ...               NaN   \n",
      "4       0.483845  0.580044  0.611560               NaN  ...               NaN   \n",
      "...          ...       ...       ...               ...  ...               ...   \n",
      "192536  0.500717  0.587437  0.612265          0.528594  ...          0.052705   \n",
      "192537  0.500992  0.589563  0.611460          0.529555  ...          0.055270   \n",
      "192538  0.500778  0.590909  0.613607          0.527770  ...          0.055475   \n",
      "192539  0.499833  0.589775  0.615724          0.527717  ...          0.055642   \n",
      "192540  0.499010  0.588323  0.618825          0.528661  ...          0.055424   \n",
      "\n",
      "        gyro_x_kurt_rol  gyro_y_kurt_rol  gyro_z_kurt_rol  accel_x_rms_rol  \\\n",
      "0                   NaN              NaN              NaN              NaN   \n",
      "1                   NaN              NaN              NaN              NaN   \n",
      "2                   NaN              NaN              NaN              NaN   \n",
      "3                   NaN              NaN              NaN              NaN   \n",
      "4                   NaN              NaN              NaN              NaN   \n",
      "...                 ...              ...              ...              ...   \n",
      "192536         0.023769         0.048194         0.108731         0.168056   \n",
      "192537         0.024361         0.048527         0.109887         0.168996   \n",
      "192538         0.024670         0.048725         0.118268         0.164846   \n",
      "192539         0.024658         0.049645         0.131754         0.164771   \n",
      "192540         0.024852         0.051236         0.139316         0.165691   \n",
      "\n",
      "        accel_y_rms_rol  accel_z_rms_rol  gyro_x_rms_rol  gyro_y_rms_rol  \\\n",
      "0                   NaN              NaN             NaN             NaN   \n",
      "1                   NaN              NaN             NaN             NaN   \n",
      "2                   NaN              NaN             NaN             NaN   \n",
      "3                   NaN              NaN             NaN             NaN   \n",
      "4                   NaN              NaN             NaN             NaN   \n",
      "...                 ...              ...             ...             ...   \n",
      "192536         0.498838         0.196790        0.079256        0.110207   \n",
      "192537         0.496243         0.194557        0.078811        0.109844   \n",
      "192538         0.492360         0.194311        0.078604        0.109630   \n",
      "192539         0.491958         0.194916        0.078634        0.108667   \n",
      "192540         0.491772         0.195554        0.078562        0.105741   \n",
      "\n",
      "        gyro_z_rms_rol  \n",
      "0                  NaN  \n",
      "1                  NaN  \n",
      "2                  NaN  \n",
      "3                  NaN  \n",
      "4                  NaN  \n",
      "...                ...  \n",
      "192536        0.091731  \n",
      "192537        0.091510  \n",
      "192538        0.089775  \n",
      "192539        0.087067  \n",
      "192540        0.085909  \n",
      "\n",
      "[192541 rows x 51 columns]\n"
     ]
    }
   ],
   "source": [
    "                                                                    \n",
    "train_scale = train_norm.copy()                                                 # df for each each data sample separate\n",
    "val_scale = val_norm.copy()\n",
    "test_scale = test_norm.copy()\n",
    "\n",
    "scaler = MinMaxScaler()                                                         # actually min max scale\n",
    "\n",
    "train_scale[floatfeatures] = scaler.fit_transform(train_scale[floatfeatures])   # fitting on training data \n",
    "print('train scale: ', train_scale)\n",
    "\n",
    "                                                                                # same transformation for val \n",
    "val_scale[floatfeatures] = scaler.transform(val_scale[floatfeatures])           # print and check\n",
    "print('val scale: ', val_scale)\n",
    "\n",
    "                                                                                #scale test data \n",
    "test_scale[floatfeatures] = scaler.transform(test_scale[floatfeatures])         \n"
   ]
  },
  {
   "cell_type": "markdown",
   "metadata": {},
   "source": [
    "DFA"
   ]
  },
  {
   "cell_type": "code",
   "execution_count": null,
   "metadata": {},
   "outputs": [],
   "source": [
    "#https://pypi.org/project/MFDFA/\n",
    "\n",
    "\n",
    "def MFDFA(timeseries: np.ndarray, lag: np.ndarray, window_size: int, order: int = 1,\n",
    "          q: np.ndarray = 2, stat: bool = False, modified: bool = False,\n",
    "          extensions: dict = {'EMD': False, 'eDFA': False, 'window': False}\n",
    "          ) -> np.ndarray:\n",
    "    \"\"\"\n",
    "    Modified MFDFA function to return DFA features of the same length as the input time series.\n",
    "    \n",
    "    Parameters\n",
    "    ----------\n",
    "    timeseries: np.ndarray\n",
    "        A 1-dimensional timeseries `(N, 1)`. The timeseries of length `N`.\n",
    "\n",
    "    lag: np.ndarray of ints\n",
    "        An array with the window sizes to calculate (ints).\n",
    "\n",
    "    window_size: int\n",
    "        The size of the moving window to calculate DFA.\n",
    "\n",
    "    order: int (default `1`)\n",
    "        The order of the polynomials to approximate.\n",
    "\n",
    "    q: np.ndarray (default `2`)\n",
    "        Fractal exponent to calculate.\n",
    "\n",
    "    stat: bool (default `False`)\n",
    "        Calculates the standard deviation associated with each segment's averaging.\n",
    "\n",
    "    modified: bool (default `False`)\n",
    "        For data with the Hurst index ≈ 0.\n",
    "\n",
    "    extensions: dict\n",
    "        Additional options for EMD and eDFA.\n",
    "\n",
    "    Returns\n",
    "    -------\n",
    "    dfa_features: np.ndarray\n",
    "        A 1-dimensional array of the same length as the input timeseries, containing the DFA values.\n",
    "    \"\"\"\n",
    "    \n",
    "    # Ensure timeseries is 1-dimensional\n",
    "    if timeseries.ndim > 1:\n",
    "        timeseries = timeseries.reshape(-1)\n",
    "\n",
    "    N = timeseries.shape[0]\n",
    "    dfa_features = np.zeros(N)\n",
    "\n",
    "    # Iterate over the time series with a sliding window\n",
    "    for start in range(N - window_size + 1):\n",
    "        end = start + window_size\n",
    "        segment = timeseries[start:end]\n",
    "\n",
    "        # Calculate the DFA for the current segment\n",
    "        lag, f = MFDFA(segment, lag, order=order, q=q, stat=stat, modified=modified, extensions=extensions)\n",
    "\n",
    "        # Store the mean DFA value for this segment\n",
    "        dfa_features[start + window_size - 1] = np.mean(f)\n",
    "\n",
    "    return dfa_features\n",
    "\n"
   ]
  },
  {
   "cell_type": "code",
   "execution_count": 91,
   "metadata": {},
   "outputs": [],
   "source": [
    "\n",
    "#lag = np.array([2,4,8,16,32,64,128,256,512,1024,2048])\n",
    "\n",
    "#MFDFA(train_scale['accel_x'],lag=lag,window_size=120)"
   ]
  },
  {
   "cell_type": "code",
   "execution_count": 74,
   "metadata": {},
   "outputs": [],
   "source": [
    "from MFDFA import MFDFA"
   ]
  },
  {
   "cell_type": "code",
   "execution_count": null,
   "metadata": {},
   "outputs": [
    {
     "name": "stdout",
     "output_type": "stream",
     "text": [
      "Estimated H = 0.651\n"
     ]
    },
    {
     "data": {
      "image/png": "[encoded data removed]",
      "text/plain": [
       "<Figure size 640x480 with 1 Axes>"
      ]
     },
     "metadata": {},
     "output_type": "display_data"
    }
   ],
   "source": [
    "#MFDFA  https://pypi.org/project/MFDFA/     # too small\n",
    "\n",
    "# Select a band of lags, which usually ranges from\n",
    "# very small segments of data, to very long ones, as\n",
    "lag = np.unique(np.logspace(0.5, 3, 100).astype(int))\n",
    "# Notice these must be ints, since these will segment\n",
    "# the data into chucks of lag size\n",
    "\n",
    "# Select the power q\n",
    "q = 2\n",
    "\n",
    "# The order of the polynomial fitting\n",
    "order = 1\n",
    "\n",
    "#\n",
    "y = train_scale['accel_x'].values\n",
    "\n",
    "# Obtain the (MF)DFA as\n",
    "lag, dfa = MFDFA(y, lag = lag, q = q, order = order)\n",
    "\n",
    "\n",
    "# To uncover the Hurst index, lets get some log-log plots\n",
    "plt.loglog(lag, dfa, 'o', label='fOU: MFDFA q=2')\n",
    "\n",
    "# And now we need to fit the line to find the slope. Don't\n",
    "# forget that since you are plotting in a double logarithmic\n",
    "# scales, you need to fit the logs of the results\n",
    "H_hat = np.polyfit(np.log(lag)[4:20],np.log(dfa[4:20]),1)[0]\n",
    "\n",
    "# Now what you should obtain is: slope = H + 1\n",
    "print('Estimated H = '+'{:.3f}'.format(H_hat[0]))\n",
    "\n"
   ]
  },
  {
   "cell_type": "code",
   "execution_count": 92,
   "metadata": {},
   "outputs": [
    {
     "name": "stdout",
     "output_type": "stream",
     "text": [
      "[[0.00558229]\n",
      " [0.00855686]\n",
      " [0.01134634]\n",
      " [0.013931  ]\n",
      " [0.01623868]\n",
      " [0.01834138]\n",
      " [0.0201591 ]\n",
      " [0.02183362]\n",
      " [0.0233635 ]\n",
      " [0.02479512]\n",
      " [0.02611057]\n",
      " [0.02739491]\n",
      " [0.02855702]\n",
      " [0.02976361]\n",
      " [0.03073732]\n",
      " [0.03180062]\n",
      " [0.03254679]\n",
      " [0.03334449]\n",
      " [0.03395387]\n",
      " [0.03461019]\n",
      " [0.03571637]\n",
      " [0.03628033]\n",
      " [0.03716618]\n",
      " [0.03757264]\n",
      " [0.03851623]\n",
      " [0.03944875]\n",
      " [0.04017392]\n",
      " [0.04112358]\n",
      " [0.04220012]\n",
      " [0.0430696 ]\n",
      " [0.04446007]\n",
      " [0.04530775]\n",
      " [0.04684195]\n",
      " [0.04850711]\n",
      " [0.05028458]\n",
      " [0.05135241]\n",
      " [0.05379214]\n",
      " [0.05576541]\n",
      " [0.05729947]\n",
      " [0.06065259]\n",
      " [0.06243063]\n",
      " [0.06503088]\n",
      " [0.06787615]\n",
      " [0.07151176]\n",
      " [0.07478755]\n",
      " [0.07868133]\n",
      " [0.08306036]\n",
      " [0.09153645]\n",
      " [0.09199054]\n",
      " [0.09602404]\n",
      " [0.10158049]\n",
      " [0.10828772]\n",
      " [0.11543097]\n",
      " [0.12222376]\n",
      " [0.12719618]\n",
      " [0.13817834]\n",
      " [0.15125299]\n",
      " [0.15777126]\n",
      " [0.16418165]\n",
      " [0.17107183]\n",
      " [0.18811417]\n",
      " [0.205362  ]\n",
      " [0.21711946]\n",
      " [0.22777907]\n",
      " [0.24843807]\n",
      " [0.26986189]\n",
      " [0.29778388]\n",
      " [0.31298383]\n",
      " [0.34445905]\n",
      " [0.3664943 ]\n",
      " [0.39611333]\n",
      " [0.42254938]\n",
      " [0.46123803]\n",
      " [0.48294314]\n",
      " [0.5306272 ]\n",
      " [0.57850934]\n",
      " [0.6053995 ]\n",
      " [0.67442838]\n",
      " [0.73368859]\n",
      " [0.79677368]\n",
      " [0.84169711]\n",
      " [0.90233508]\n",
      " [0.99671886]\n",
      " [1.12548933]\n",
      " [1.12937475]]\n",
      "85\n"
     ]
    }
   ],
   "source": [
    "print(dfa)\n",
    "print(len(dfa))"
   ]
  },
  {
   "cell_type": "markdown",
   "metadata": {},
   "source": [
    "The idea:\n",
    "\"In each bin, a least squares regression\n",
    "is fit and subtracted within each window. Residuals are squared and\n",
    "averaged within each window. Then, the square root is taken of the\n",
    "average squared residual across all windows of a given size. This\n",
    "process repeats for larger window sizes, growing by, say a power of 2,\n",
    "up to $N/4$, where $N$ is the length of the series. In a final step, the\n",
    "logarithm of those scaled root mean squared residuals (i.e.,\n",
    "fluctuations) is regressed on the logarithm of window sizes. \" \n",
    "\n",
    "https://github.com/travisjwiltshire/fractal_regression_manuscript/blob/main/fractal_regression_paper_brm.Rmd\n",
    "\n",
    "The attempt of implentation:"
   ]
  },
  {
   "cell_type": "code",
   "execution_count": 94,
   "metadata": {},
   "outputs": [
    {
     "data": {
      "image/png": "[encoded data removed]",
      "text/plain": [
       "<Figure size 640x480 with 1 Axes>"
      ]
     },
     "metadata": {},
     "output_type": "display_data"
    }
   ],
   "source": [
    "#DFA on all accel_x_y_z gyro_x_y_z, window size changes, same transformations for val and test \n",
    "\n",
    "def detrended_fluctuation_analysis(time_series, min_window=16, max_window=1024):                        # start function\n",
    "    N = len(time_series)                                                                                # length                                                                                           \n",
    "    time_series_cumsum = np.cumsum(time_series - np.mean(time_series))                                  # Cumulatively sum of the detrended time series                                                                                               \n",
    "    windows = np.arange(min_window, max_window + 1, step=1)                                             # Window sizes\n",
    "    F = []                                                                                              # List of fluctuations\n",
    "    \n",
    "    for window in windows:\n",
    "        bins = np.array([time_series_cumsum[i:i + window] for i in range(0, N-window, window)])         # array with bins\n",
    "                                                                                                        # Detrend each bin and calculate the root mean square fluctuation compared to a polynomial\n",
    "        rms = [np.sqrt(np.mean(np.square(bin - np.polyval(np.polyfit(np.arange(len(bin)), bin, 1), np.arange(len(bin)))))) for bin in bins]\n",
    "        F.append(np.mean(rms))                                                                          # add fluctuation to the list\n",
    "        \n",
    "    return windows, F\n",
    "\n",
    "                                                                                                        # apply function on raw (scaled) data\n",
    "for dat in coordinates: \n",
    "    train_scale[f'{dat}_DFA'] = train_scale[dat].values\n",
    "    windows, F = detrended_fluctuation_analysis(train_scale[f'{dat}_DFA'])\n",
    "\n",
    "    plt.loglog(windows, F, label=dat)\n",
    "\n",
    "# Finalizing the plot\n",
    "plt.xlabel('Window size (log scale)')\n",
    "plt.ylabel('Fluctuation function F(n) (log scale)')\n",
    "plt.title('Detrended Fluctuation Analysis')\n",
    "plt.legend()\n",
    "plt.show()\n",
    "\n"
   ]
  },
  {
   "cell_type": "code",
   "execution_count": null,
   "metadata": {},
   "outputs": [],
   "source": []
  },
  {
   "cell_type": "code",
   "execution_count": 93,
   "metadata": {},
   "outputs": [
    {
     "name": "stdout",
     "output_type": "stream",
     "text": [
      "360       0.540486\n",
      "361       0.537285\n",
      "362       0.515404\n",
      "363       0.515882\n",
      "364       0.536061\n",
      "            ...   \n",
      "577447    0.511926\n",
      "577448    0.518131\n",
      "577449    0.547254\n",
      "577450    0.563419\n",
      "577451    0.556585\n",
      "Name: accel_x_DFA, Length: 577092, dtype: float64\n"
     ]
    }
   ],
   "source": [
    "print(train_scale['accel_x_DFA'])"
   ]
  },
  {
   "cell_type": "code",
   "execution_count": null,
   "metadata": {},
   "outputs": [],
   "source": [
    "print"
   ]
  },
  {
   "cell_type": "code",
   "execution_count": null,
   "metadata": {},
   "outputs": [],
   "source": [
    "'''from scipy.stats import linregress'''\n"
   ]
  },
  {
   "cell_type": "code",
   "execution_count": 26,
   "metadata": {},
   "outputs": [
    {
     "data": {
      "text/plain": [
       "\"for dat in coordinates: \\n    train_scale[f'{dat}_DFA'] = train_scale[dat].values\\n    windows, F = detrended_fluctuation_analysis(train_scale[f'{dat}_DFA'])\\n\\n\\n    plt.loglog(windows, F, label=dat)\\n\\n# plot of DFA for 6 time series (train data)\\nplt.xlabel('Window size (log scale)')\\nplt.ylabel('Fluctuation function F(n) (log scale)')\\nplt.title('Detrended Fluctuation Analysis')\\nplt.legend()\\nplt.show()\""
      ]
     },
     "execution_count": 26,
     "metadata": {},
     "output_type": "execute_result"
    }
   ],
   "source": [
    "                                                                    # apply DFA on train data \n",
    "'''for dat in coordinates: \n",
    "    train_scale[f'{dat}_DFA'] = train_scale[dat].values\n",
    "    windows, F = detrended_fluctuation_analysis(train_scale[f'{dat}_DFA'])\n",
    "\n",
    "\n",
    "    plt.loglog(windows, F, label=dat)\n",
    "\n",
    "                                                                    # plot of DFA for 6 time series (train data)\n",
    "plt.xlabel('Window size (log scale)')\n",
    "plt.ylabel('Fluctuation function F(n) (log scale)')\n",
    "plt.title('Detrended Fluctuation Analysis')\n",
    "plt.legend()\n",
    "plt.show()'''\n"
   ]
  },
  {
   "cell_type": "code",
   "execution_count": null,
   "metadata": {},
   "outputs": [
    {
     "name": "stdout",
     "output_type": "stream",
     "text": [
      "                user     timestamp        accel_x        accel_y  \\\n",
      "count  577452.000000  5.774520e+05  577452.000000  577452.000000   \n",
      "mean     1622.815373  4.756829e+14       0.530566       0.696437   \n",
      "std        14.166329  4.776322e+14       0.037446       0.095000   \n",
      "min      1600.000000  2.907196e+11       0.000000       0.000000   \n",
      "25%      1611.000000  1.231121e+14       0.508622       0.615172   \n",
      "50%      1623.000000  2.600691e+14       0.529690       0.687950   \n",
      "75%      1633.000000  7.110781e+14       0.552274       0.780269   \n",
      "max      1650.000000  1.819727e+15       1.000000       1.000000   \n",
      "\n",
      "             accel_z         gyro_x         gyro_y         gyro_z  \\\n",
      "count  577452.000000  577452.000000  577452.000000  577452.000000   \n",
      "mean        0.520620       0.505308       0.581510       0.622121   \n",
      "std         0.052546       0.035051       0.024160       0.027251   \n",
      "min         0.000000       0.000000       0.000000       0.000000   \n",
      "25%         0.495836       0.496754       0.576419       0.616765   \n",
      "50%         0.518122       0.505498       0.581580       0.622254   \n",
      "75%         0.546238       0.513982       0.586404       0.627707   \n",
      "max         1.000000       1.000000       1.000000       1.000000   \n",
      "\n",
      "       accel_x_mean_rol  accel_y_mean_rol  ...  accel_z_rms_rol  \\\n",
      "count     577333.000000     577333.000000  ...    577333.000000   \n",
      "mean           0.464416          0.485474  ...         0.324351   \n",
      "std            0.197758          0.331711  ...         0.191416   \n",
      "min            0.000000          0.000000  ...         0.000000   \n",
      "25%            0.354087          0.155624  ...         0.183739   \n",
      "50%            0.457168          0.420497  ...         0.284905   \n",
      "75%            0.585647          0.890439  ...         0.445939   \n",
      "max            1.000000          1.000000  ...         1.000000   \n",
      "\n",
      "       gyro_x_rms_rol  gyro_y_rms_rol  gyro_z_rms_rol    accel_x_DFA  \\\n",
      "count   577333.000000   577333.000000   577333.000000  577452.000000   \n",
      "mean         0.155327        0.101786        0.109028       0.530566   \n",
      "std          0.142971        0.109577        0.116011       0.037446   \n",
      "min          0.000000        0.000000        0.000000       0.000000   \n",
      "25%          0.009971        0.008353        0.006662       0.508622   \n",
      "50%          0.140509        0.084010        0.085872       0.529690   \n",
      "75%          0.246848        0.148398        0.153166       0.552274   \n",
      "max          1.000000        1.000000        1.000000       1.000000   \n",
      "\n",
      "         accel_y_DFA    accel_z_DFA     gyro_x_DFA     gyro_y_DFA  \\\n",
      "count  577452.000000  577452.000000  577452.000000  577452.000000   \n",
      "mean        0.696437       0.520620       0.505308       0.581510   \n",
      "std         0.095000       0.052546       0.035051       0.024160   \n",
      "min         0.000000       0.000000       0.000000       0.000000   \n",
      "25%         0.615172       0.495836       0.496754       0.576419   \n",
      "50%         0.687950       0.518122       0.505498       0.581580   \n",
      "75%         0.780269       0.546238       0.513982       0.586404   \n",
      "max         1.000000       1.000000       1.000000       1.000000   \n",
      "\n",
      "          gyro_z_DFA  \n",
      "count  577452.000000  \n",
      "mean        0.622121  \n",
      "std         0.027251  \n",
      "min         0.000000  \n",
      "25%         0.616765  \n",
      "50%         0.622254  \n",
      "75%         0.627707  \n",
      "max         1.000000  \n",
      "\n",
      "[8 rows x 56 columns]\n"
     ]
    }
   ],
   "source": [
    "print(train_scale.describe())                       # 56 columns"
   ]
  },
  {
   "cell_type": "code",
   "execution_count": null,
   "metadata": {},
   "outputs": [],
   "source": [
    "                                                                    # DFA for validation set \n",
    "\n",
    "for dat in coordinates: \n",
    "    val_scale[f'{dat}_DFA'] = val_scale[dat].values\n",
    "    windows, F = detrended_fluctuation_analysis(val_scale[f'{dat}_DFA'])"
   ]
  },
  {
   "cell_type": "code",
   "execution_count": 40,
   "metadata": {},
   "outputs": [],
   "source": [
    "                                                                    # DFA for test set\n",
    "\n",
    "for dat in coordinates: \n",
    "    test_scale[f'{dat}_DFA'] = test_scale[dat].values\n",
    "    windows, F = detrended_fluctuation_analysis(test_scale[f'{dat}_DFA'])"
   ]
  },
  {
   "cell_type": "markdown",
   "metadata": {},
   "source": [
    "# checks\n",
    "missing, shape, describe"
   ]
  },
  {
   "cell_type": "code",
   "execution_count": 41,
   "metadata": {},
   "outputs": [
    {
     "name": "stdout",
     "output_type": "stream",
     "text": [
      "(577452, 57)\n",
      "(192541, 57)\n",
      "(192605, 57)\n"
     ]
    }
   ],
   "source": [
    "                                                                    # check train, val, test shape\n",
    "print(train_scale.shape)\n",
    "print(val_scale.shape)\n",
    "print(test_scale.shape)\n",
    "\n"
   ]
  },
  {
   "cell_type": "code",
   "execution_count": 42,
   "metadata": {
    "colab": {
     "base_uri": "https://localhost:8080/",
     "height": 162
    },
    "id": "xxTER4p3igQk",
    "outputId": "7623fc5b-832a-442b-8dad-aa42c8d00c54"
   },
   "outputs": [
    {
     "name": "stdout",
     "output_type": "stream",
     "text": [
      "user                     0\n",
      "activity                 0\n",
      "timestamp                0\n",
      "accel_x                  0\n",
      "accel_y                  0\n",
      "accel_z                  0\n",
      "gyro_x                   0\n",
      "gyro_y                   0\n",
      "gyro_z                   0\n",
      "accel_x_mean_rol       119\n",
      "accel_y_mean_rol       119\n",
      "accel_z_mean_rol       119\n",
      "gyro_x_mean_rol        119\n",
      "gyro_y_mean_rol        119\n",
      "gyro_z_mean_rol        119\n",
      "accel_x_std_rol        119\n",
      "accel_y_std_rol        119\n",
      "accel_z_std_rol        119\n",
      "gyro_x_std_rol         119\n",
      "gyro_y_std_rol         119\n",
      "gyro_z_std_rol         119\n",
      "accel_x_SpecEnt_rol    119\n",
      "accel_y_SpecEnt_rol    119\n",
      "accel_z_SpecEnt_rol    119\n",
      "gyro_x_SpecEnt_rol     119\n",
      "gyro_y_SpecEnt_rol     119\n",
      "gyro_z_SpecEnt_rol     119\n",
      "accel_x_var_rol        119\n",
      "accel_y_var_rol        119\n",
      "accel_z_var_rol        119\n",
      "gyro_x_var_rol         119\n",
      "gyro_y_var_rol         119\n",
      "gyro_z_var_rol         119\n",
      "accel_x_skew_rol       119\n",
      "accel_y_skew_rol       119\n",
      "accel_z_skew_rol       119\n",
      "gyro_x_skew_rol        119\n",
      "gyro_y_skew_rol        119\n",
      "gyro_z_skew_rol        119\n",
      "accel_x_kurt_rol       119\n",
      "accel_y_kurt_rol       119\n",
      "accel_z_kurt_rol       119\n",
      "gyro_x_kurt_rol        119\n",
      "gyro_y_kurt_rol        119\n",
      "gyro_z_kurt_rol        119\n",
      "accel_x_rms_rol        119\n",
      "accel_y_rms_rol        119\n",
      "accel_z_rms_rol        119\n",
      "gyro_x_rms_rol         119\n",
      "gyro_y_rms_rol         119\n",
      "gyro_z_rms_rol         119\n",
      "accel_x_DFA              0\n",
      "accel_y_DFA              0\n",
      "accel_z_DFA              0\n",
      "gyro_x_DFA               0\n",
      "gyro_y_DFA               0\n",
      "gyro_z_DFA               0\n",
      "dtype: int64\n"
     ]
    }
   ],
   "source": [
    "missi2=train_scale.isnull().sum()\n",
    "print(missi2)"
   ]
  },
  {
   "cell_type": "markdown",
   "metadata": {},
   "source": [
    "# exclude missings due to windowing"
   ]
  },
  {
   "cell_type": "code",
   "execution_count": 47,
   "metadata": {},
   "outputs": [
    {
     "name": "stdout",
     "output_type": "stream",
     "text": [
      "<class 'pandas.core.frame.DataFrame'>\n",
      "RangeIndex: 577332 entries, 120 to 577451\n",
      "Data columns (total 57 columns):\n",
      " #   Column               Non-Null Count   Dtype  \n",
      "---  ------               --------------   -----  \n",
      " 0   user                 577332 non-null  int64  \n",
      " 1   activity             577332 non-null  object \n",
      " 2   timestamp            577332 non-null  int64  \n",
      " 3   accel_x              577332 non-null  float64\n",
      " 4   accel_y              577332 non-null  float64\n",
      " 5   accel_z              577332 non-null  float64\n",
      " 6   gyro_x               577332 non-null  float64\n",
      " 7   gyro_y               577332 non-null  float64\n",
      " 8   gyro_z               577332 non-null  float64\n",
      " 9   accel_x_mean_rol     577332 non-null  float64\n",
      " 10  accel_y_mean_rol     577332 non-null  float64\n",
      " 11  accel_z_mean_rol     577332 non-null  float64\n",
      " 12  gyro_x_mean_rol      577332 non-null  float64\n",
      " 13  gyro_y_mean_rol      577332 non-null  float64\n",
      " 14  gyro_z_mean_rol      577332 non-null  float64\n",
      " 15  accel_x_std_rol      577332 non-null  float64\n",
      " 16  accel_y_std_rol      577332 non-null  float64\n",
      " 17  accel_z_std_rol      577332 non-null  float64\n",
      " 18  gyro_x_std_rol       577332 non-null  float64\n",
      " 19  gyro_y_std_rol       577332 non-null  float64\n",
      " 20  gyro_z_std_rol       577332 non-null  float64\n",
      " 21  accel_x_SpecEnt_rol  577332 non-null  float64\n",
      " 22  accel_y_SpecEnt_rol  577332 non-null  float64\n",
      " 23  accel_z_SpecEnt_rol  577332 non-null  float64\n",
      " 24  gyro_x_SpecEnt_rol   577332 non-null  float64\n",
      " 25  gyro_y_SpecEnt_rol   577332 non-null  float64\n",
      " 26  gyro_z_SpecEnt_rol   577332 non-null  float64\n",
      " 27  accel_x_var_rol      577332 non-null  float64\n",
      " 28  accel_y_var_rol      577332 non-null  float64\n",
      " 29  accel_z_var_rol      577332 non-null  float64\n",
      " 30  gyro_x_var_rol       577332 non-null  float64\n",
      " 31  gyro_y_var_rol       577332 non-null  float64\n",
      " 32  gyro_z_var_rol       577332 non-null  float64\n",
      " 33  accel_x_skew_rol     577332 non-null  float64\n",
      " 34  accel_y_skew_rol     577332 non-null  float64\n",
      " 35  accel_z_skew_rol     577332 non-null  float64\n",
      " 36  gyro_x_skew_rol      577332 non-null  float64\n",
      " 37  gyro_y_skew_rol      577332 non-null  float64\n",
      " 38  gyro_z_skew_rol      577332 non-null  float64\n",
      " 39  accel_x_kurt_rol     577332 non-null  float64\n",
      " 40  accel_y_kurt_rol     577332 non-null  float64\n",
      " 41  accel_z_kurt_rol     577332 non-null  float64\n",
      " 42  gyro_x_kurt_rol      577332 non-null  float64\n",
      " 43  gyro_y_kurt_rol      577332 non-null  float64\n",
      " 44  gyro_z_kurt_rol      577332 non-null  float64\n",
      " 45  accel_x_rms_rol      577332 non-null  float64\n",
      " 46  accel_y_rms_rol      577332 non-null  float64\n",
      " 47  accel_z_rms_rol      577332 non-null  float64\n",
      " 48  gyro_x_rms_rol       577332 non-null  float64\n",
      " 49  gyro_y_rms_rol       577332 non-null  float64\n",
      " 50  gyro_z_rms_rol       577332 non-null  float64\n",
      " 51  accel_x_DFA          577332 non-null  float64\n",
      " 52  accel_y_DFA          577332 non-null  float64\n",
      " 53  accel_z_DFA          577332 non-null  float64\n",
      " 54  gyro_x_DFA           577332 non-null  float64\n",
      " 55  gyro_y_DFA           577332 non-null  float64\n",
      " 56  gyro_z_DFA           577332 non-null  float64\n",
      "dtypes: float64(54), int64(2), object(1)\n",
      "memory usage: 251.1+ MB\n"
     ]
    }
   ],
   "source": [
    "train_scale.info()"
   ]
  },
  {
   "cell_type": "code",
   "execution_count": null,
   "metadata": {
    "id": "PmwgQqTNz_8r"
   },
   "outputs": [
    {
     "name": "stdout",
     "output_type": "stream",
     "text": [
      "0.020793911542700296\n",
      "0.06230367851301887\n"
     ]
    }
   ],
   "source": [
    "                                                                      # drop first 120 because of window transforming some values are left \n",
    "train_scale=train_scale.iloc[120:]\n",
    "val_scale=val_scale.iloc[120:]\n",
    "test_scale = test_scale.iloc[120:]\n",
    "                                    \n",
    "                                 \n",
    "                                                                      # to check ratio to train data \n",
    "print((120 / len(train_scale)) * 100 )\n",
    "print((120 / len(test_data)) * 100   )                                # and test\n",
    "                                                                      # removing produced missings is < 0.1% prozent of training and test data"
   ]
  },
  {
   "cell_type": "code",
   "execution_count": null,
   "metadata": {},
   "outputs": [
    {
     "name": "stdout",
     "output_type": "stream",
     "text": [
      "(577332, 57)\n",
      "(192421, 57)\n",
      "(192485, 57)\n"
     ]
    }
   ],
   "source": [
    "print(train_scale.shape)                                               # look at shapes - same amount features (57)\n",
    "print(val_scale.shape)\n",
    "print(test_scale.shape)"
   ]
  },
  {
   "cell_type": "code",
   "execution_count": 36,
   "metadata": {
    "id": "6FJCMRUL-CrV"
   },
   "outputs": [
    {
     "data": {
      "text/html": [
       "<div>\n",
       "<style scoped>\n",
       "    .dataframe tbody tr th:only-of-type {\n",
       "        vertical-align: middle;\n",
       "    }\n",
       "\n",
       "    .dataframe tbody tr th {\n",
       "        vertical-align: top;\n",
       "    }\n",
       "\n",
       "    .dataframe thead th {\n",
       "        text-align: right;\n",
       "    }\n",
       "</style>\n",
       "<table border=\"1\" class=\"dataframe\">\n",
       "  <thead>\n",
       "    <tr style=\"text-align: right;\">\n",
       "      <th></th>\n",
       "      <th>user</th>\n",
       "      <th>timestamp</th>\n",
       "      <th>accel_x</th>\n",
       "      <th>accel_y</th>\n",
       "      <th>accel_z</th>\n",
       "      <th>gyro_x</th>\n",
       "      <th>gyro_y</th>\n",
       "      <th>gyro_z</th>\n",
       "      <th>accel_x_mean_rol</th>\n",
       "      <th>accel_y_mean_rol</th>\n",
       "      <th>...</th>\n",
       "      <th>accel_z_SpecEnt_rol</th>\n",
       "      <th>gyro_x_SpecEnt_rol</th>\n",
       "      <th>gyro_y_SpecEnt_rol</th>\n",
       "      <th>gyro_z_SpecEnt_rol</th>\n",
       "      <th>accel_x_DFA</th>\n",
       "      <th>accel_y_DFA</th>\n",
       "      <th>accel_z_DFA</th>\n",
       "      <th>gyro_x_DFA</th>\n",
       "      <th>gyro_y_DFA</th>\n",
       "      <th>gyro_z_DFA</th>\n",
       "    </tr>\n",
       "  </thead>\n",
       "  <tbody>\n",
       "    <tr>\n",
       "      <th>count</th>\n",
       "      <td>577332.000000</td>\n",
       "      <td>5.773320e+05</td>\n",
       "      <td>577332.000000</td>\n",
       "      <td>577332.000000</td>\n",
       "      <td>577332.000000</td>\n",
       "      <td>577332.000000</td>\n",
       "      <td>577332.000000</td>\n",
       "      <td>577332.000000</td>\n",
       "      <td>577332.000000</td>\n",
       "      <td>577332.000000</td>\n",
       "      <td>...</td>\n",
       "      <td>577332.000000</td>\n",
       "      <td>577332.000000</td>\n",
       "      <td>577332.000000</td>\n",
       "      <td>577332.000000</td>\n",
       "      <td>577332.000000</td>\n",
       "      <td>577332.000000</td>\n",
       "      <td>577332.000000</td>\n",
       "      <td>577332.000000</td>\n",
       "      <td>577332.000000</td>\n",
       "      <td>577332.000000</td>\n",
       "    </tr>\n",
       "    <tr>\n",
       "      <th>mean</th>\n",
       "      <td>1622.820116</td>\n",
       "      <td>4.757293e+14</td>\n",
       "      <td>0.530568</td>\n",
       "      <td>0.696412</td>\n",
       "      <td>0.520619</td>\n",
       "      <td>0.505307</td>\n",
       "      <td>0.581510</td>\n",
       "      <td>0.622121</td>\n",
       "      <td>0.464416</td>\n",
       "      <td>0.485473</td>\n",
       "      <td>...</td>\n",
       "      <td>0.470323</td>\n",
       "      <td>0.670981</td>\n",
       "      <td>0.696903</td>\n",
       "      <td>0.668401</td>\n",
       "      <td>0.530568</td>\n",
       "      <td>0.696412</td>\n",
       "      <td>0.520619</td>\n",
       "      <td>0.505307</td>\n",
       "      <td>0.581510</td>\n",
       "      <td>0.622121</td>\n",
       "    </tr>\n",
       "    <tr>\n",
       "      <th>std</th>\n",
       "      <td>14.163981</td>\n",
       "      <td>4.776710e+14</td>\n",
       "      <td>0.037449</td>\n",
       "      <td>0.094991</td>\n",
       "      <td>0.052550</td>\n",
       "      <td>0.035053</td>\n",
       "      <td>0.024162</td>\n",
       "      <td>0.027253</td>\n",
       "      <td>0.197758</td>\n",
       "      <td>0.331711</td>\n",
       "      <td>...</td>\n",
       "      <td>0.346178</td>\n",
       "      <td>0.158073</td>\n",
       "      <td>0.148400</td>\n",
       "      <td>0.149612</td>\n",
       "      <td>0.037449</td>\n",
       "      <td>0.094991</td>\n",
       "      <td>0.052550</td>\n",
       "      <td>0.035053</td>\n",
       "      <td>0.024162</td>\n",
       "      <td>0.027253</td>\n",
       "    </tr>\n",
       "    <tr>\n",
       "      <th>min</th>\n",
       "      <td>1600.000000</td>\n",
       "      <td>2.907196e+11</td>\n",
       "      <td>0.000000</td>\n",
       "      <td>0.000000</td>\n",
       "      <td>0.000000</td>\n",
       "      <td>0.000000</td>\n",
       "      <td>0.000000</td>\n",
       "      <td>0.000000</td>\n",
       "      <td>0.000000</td>\n",
       "      <td>0.000000</td>\n",
       "      <td>...</td>\n",
       "      <td>0.000000</td>\n",
       "      <td>0.000000</td>\n",
       "      <td>0.000000</td>\n",
       "      <td>0.000000</td>\n",
       "      <td>0.000000</td>\n",
       "      <td>0.000000</td>\n",
       "      <td>0.000000</td>\n",
       "      <td>0.000000</td>\n",
       "      <td>0.000000</td>\n",
       "      <td>0.000000</td>\n",
       "    </tr>\n",
       "    <tr>\n",
       "      <th>25%</th>\n",
       "      <td>1611.000000</td>\n",
       "      <td>1.231106e+14</td>\n",
       "      <td>0.508620</td>\n",
       "      <td>0.615164</td>\n",
       "      <td>0.495833</td>\n",
       "      <td>0.496759</td>\n",
       "      <td>0.576420</td>\n",
       "      <td>0.616766</td>\n",
       "      <td>0.354086</td>\n",
       "      <td>0.155624</td>\n",
       "      <td>...</td>\n",
       "      <td>0.024493</td>\n",
       "      <td>0.592139</td>\n",
       "      <td>0.615688</td>\n",
       "      <td>0.588965</td>\n",
       "      <td>0.508620</td>\n",
       "      <td>0.615164</td>\n",
       "      <td>0.495833</td>\n",
       "      <td>0.496759</td>\n",
       "      <td>0.576420</td>\n",
       "      <td>0.616766</td>\n",
       "    </tr>\n",
       "    <tr>\n",
       "      <th>50%</th>\n",
       "      <td>1623.000000</td>\n",
       "      <td>2.600715e+14</td>\n",
       "      <td>0.529694</td>\n",
       "      <td>0.687899</td>\n",
       "      <td>0.518119</td>\n",
       "      <td>0.505498</td>\n",
       "      <td>0.581580</td>\n",
       "      <td>0.622254</td>\n",
       "      <td>0.457168</td>\n",
       "      <td>0.420497</td>\n",
       "      <td>...</td>\n",
       "      <td>0.581970</td>\n",
       "      <td>0.699291</td>\n",
       "      <td>0.731848</td>\n",
       "      <td>0.695845</td>\n",
       "      <td>0.529694</td>\n",
       "      <td>0.687899</td>\n",
       "      <td>0.518119</td>\n",
       "      <td>0.505498</td>\n",
       "      <td>0.581580</td>\n",
       "      <td>0.622254</td>\n",
       "    </tr>\n",
       "    <tr>\n",
       "      <th>75%</th>\n",
       "      <td>1633.000000</td>\n",
       "      <td>7.110826e+14</td>\n",
       "      <td>0.552279</td>\n",
       "      <td>0.780176</td>\n",
       "      <td>0.546240</td>\n",
       "      <td>0.513978</td>\n",
       "      <td>0.586402</td>\n",
       "      <td>0.627704</td>\n",
       "      <td>0.585647</td>\n",
       "      <td>0.890439</td>\n",
       "      <td>...</td>\n",
       "      <td>0.790512</td>\n",
       "      <td>0.784574</td>\n",
       "      <td>0.806560</td>\n",
       "      <td>0.775569</td>\n",
       "      <td>0.552279</td>\n",
       "      <td>0.780176</td>\n",
       "      <td>0.546240</td>\n",
       "      <td>0.513978</td>\n",
       "      <td>0.586402</td>\n",
       "      <td>0.627704</td>\n",
       "    </tr>\n",
       "    <tr>\n",
       "      <th>max</th>\n",
       "      <td>1650.000000</td>\n",
       "      <td>1.819727e+15</td>\n",
       "      <td>1.000000</td>\n",
       "      <td>1.000000</td>\n",
       "      <td>1.000000</td>\n",
       "      <td>1.000000</td>\n",
       "      <td>1.000000</td>\n",
       "      <td>1.000000</td>\n",
       "      <td>1.000000</td>\n",
       "      <td>1.000000</td>\n",
       "      <td>...</td>\n",
       "      <td>1.000000</td>\n",
       "      <td>1.000000</td>\n",
       "      <td>1.000000</td>\n",
       "      <td>1.000000</td>\n",
       "      <td>1.000000</td>\n",
       "      <td>1.000000</td>\n",
       "      <td>1.000000</td>\n",
       "      <td>1.000000</td>\n",
       "      <td>1.000000</td>\n",
       "      <td>1.000000</td>\n",
       "    </tr>\n",
       "  </tbody>\n",
       "</table>\n",
       "<p>8 rows × 56 columns</p>\n",
       "</div>"
      ],
      "text/plain": [
       "                user     timestamp        accel_x        accel_y  \\\n",
       "count  577332.000000  5.773320e+05  577332.000000  577332.000000   \n",
       "mean     1622.820116  4.757293e+14       0.530568       0.696412   \n",
       "std        14.163981  4.776710e+14       0.037449       0.094991   \n",
       "min      1600.000000  2.907196e+11       0.000000       0.000000   \n",
       "25%      1611.000000  1.231106e+14       0.508620       0.615164   \n",
       "50%      1623.000000  2.600715e+14       0.529694       0.687899   \n",
       "75%      1633.000000  7.110826e+14       0.552279       0.780176   \n",
       "max      1650.000000  1.819727e+15       1.000000       1.000000   \n",
       "\n",
       "             accel_z         gyro_x         gyro_y         gyro_z  \\\n",
       "count  577332.000000  577332.000000  577332.000000  577332.000000   \n",
       "mean        0.520619       0.505307       0.581510       0.622121   \n",
       "std         0.052550       0.035053       0.024162       0.027253   \n",
       "min         0.000000       0.000000       0.000000       0.000000   \n",
       "25%         0.495833       0.496759       0.576420       0.616766   \n",
       "50%         0.518119       0.505498       0.581580       0.622254   \n",
       "75%         0.546240       0.513978       0.586402       0.627704   \n",
       "max         1.000000       1.000000       1.000000       1.000000   \n",
       "\n",
       "       accel_x_mean_rol  accel_y_mean_rol  ...  accel_z_SpecEnt_rol  \\\n",
       "count     577332.000000     577332.000000  ...        577332.000000   \n",
       "mean           0.464416          0.485473  ...             0.470323   \n",
       "std            0.197758          0.331711  ...             0.346178   \n",
       "min            0.000000          0.000000  ...             0.000000   \n",
       "25%            0.354086          0.155624  ...             0.024493   \n",
       "50%            0.457168          0.420497  ...             0.581970   \n",
       "75%            0.585647          0.890439  ...             0.790512   \n",
       "max            1.000000          1.000000  ...             1.000000   \n",
       "\n",
       "       gyro_x_SpecEnt_rol  gyro_y_SpecEnt_rol  gyro_z_SpecEnt_rol  \\\n",
       "count       577332.000000       577332.000000       577332.000000   \n",
       "mean             0.670981            0.696903            0.668401   \n",
       "std              0.158073            0.148400            0.149612   \n",
       "min              0.000000            0.000000            0.000000   \n",
       "25%              0.592139            0.615688            0.588965   \n",
       "50%              0.699291            0.731848            0.695845   \n",
       "75%              0.784574            0.806560            0.775569   \n",
       "max              1.000000            1.000000            1.000000   \n",
       "\n",
       "         accel_x_DFA    accel_y_DFA    accel_z_DFA     gyro_x_DFA  \\\n",
       "count  577332.000000  577332.000000  577332.000000  577332.000000   \n",
       "mean        0.530568       0.696412       0.520619       0.505307   \n",
       "std         0.037449       0.094991       0.052550       0.035053   \n",
       "min         0.000000       0.000000       0.000000       0.000000   \n",
       "25%         0.508620       0.615164       0.495833       0.496759   \n",
       "50%         0.529694       0.687899       0.518119       0.505498   \n",
       "75%         0.552279       0.780176       0.546240       0.513978   \n",
       "max         1.000000       1.000000       1.000000       1.000000   \n",
       "\n",
       "          gyro_y_DFA     gyro_z_DFA  \n",
       "count  577332.000000  577332.000000  \n",
       "mean        0.581510       0.622121  \n",
       "std         0.024162       0.027253  \n",
       "min         0.000000       0.000000  \n",
       "25%         0.576420       0.616766  \n",
       "50%         0.581580       0.622254  \n",
       "75%         0.586402       0.627704  \n",
       "max         1.000000       1.000000  \n",
       "\n",
       "[8 rows x 56 columns]"
      ]
     },
     "execution_count": 36,
     "metadata": {},
     "output_type": "execute_result"
    }
   ],
   "source": [
    "train_scale.describe()"
   ]
  },
  {
   "cell_type": "markdown",
   "metadata": {
    "id": "TqhynCRZ0PWh"
   },
   "source": [
    "## Baseline model"
   ]
  },
  {
   "cell_type": "code",
   "execution_count": 51,
   "metadata": {
    "id": "KWO3n1_h2YZ3"
   },
   "outputs": [],
   "source": [
    "from sklearn.naive_bayes import GaussianNB                                                              # Naive Bayes\n",
    "from sklearn.svm import SVC                                                                             # SVM\n",
    "from sklearn.neighbors import KNeighborsClassifier                                                      # kNN\n",
    "from sklearn.metrics import classification_report, confusion_matrix, accuracy_score                     # evaluation\n",
    "from sklearn.inspection import permutation_importance                                                   # feature importance (Naive Bayes)"
   ]
  },
  {
   "cell_type": "code",
   "execution_count": 52,
   "metadata": {
    "id": "09EYlKTE2lZ0"
   },
   "outputs": [],
   "source": [
    "                                                                                                        \n",
    "X_train = train_scale.drop('activity',axis=1)                                                           #  raw and transformed time series for X_train \n",
    "y_train = train_scale['activity']                                                                       # set label for training data\n",
    "X_val = val_scale.drop('activity', axis=1)                                                              # set label and data for validation set    \n",
    "y_val = val_scale['activity']\n",
    "X_test = test_scale.drop('activity', axis=1)                                                            # set label and data for test set\n",
    "y_test = test_scale['activity']\n",
    "\n",
    "\n",
    "sample_sizetrain=int(len(X_train)*0.5)                                                                 # sample_size for train (X_train or y_train can be used to indicate length)\n"
   ]
  },
  {
   "cell_type": "markdown",
   "metadata": {},
   "source": [
    "# Naive Bayes"
   ]
  },
  {
   "cell_type": "code",
   "execution_count": null,
   "metadata": {},
   "outputs": [
    {
     "name": "stdout",
     "output_type": "stream",
     "text": [
      "Accuracy: 18.26%\n"
     ]
    },
    {
     "name": "stderr",
     "output_type": "stream",
     "text": [
      "c:\\Users\\Clara_einfach\\AppData\\Local\\Programs\\Python\\Python313\\Lib\\site-packages\\sklearn\\metrics\\_classification.py:1531: UndefinedMetricWarning: Precision is ill-defined and being set to 0.0 in labels with no predicted samples. Use `zero_division` parameter to control this behavior.\n",
      "  _warn_prf(average, modifier, f\"{metric.capitalize()} is\", len(result))\n",
      "c:\\Users\\Clara_einfach\\AppData\\Local\\Programs\\Python\\Python313\\Lib\\site-packages\\sklearn\\metrics\\_classification.py:1531: UndefinedMetricWarning: Precision is ill-defined and being set to 0.0 in labels with no predicted samples. Use `zero_division` parameter to control this behavior.\n",
      "  _warn_prf(average, modifier, f\"{metric.capitalize()} is\", len(result))\n"
     ]
    },
    {
     "name": "stdout",
     "output_type": "stream",
     "text": [
      "              precision    recall  f1-score   support\n",
      "\n",
      "           A       0.00      0.00      0.00     30066\n",
      "           B       0.00      0.00      0.00     30807\n",
      "           C       0.18      0.64      0.28     32090\n",
      "           D       0.19      0.41      0.26     36068\n",
      "           E       0.00      0.00      0.00     33018\n",
      "           M       0.00      0.00      0.00     30132\n",
      "\n",
      "    accuracy                           0.18    192181\n",
      "   macro avg       0.06      0.17      0.09    192181\n",
      "weighted avg       0.07      0.18      0.10    192181\n",
      "\n"
     ]
    },
    {
     "name": "stderr",
     "output_type": "stream",
     "text": [
      "c:\\Users\\Clara_einfach\\AppData\\Local\\Programs\\Python\\Python313\\Lib\\site-packages\\sklearn\\metrics\\_classification.py:1531: UndefinedMetricWarning: Precision is ill-defined and being set to 0.0 in labels with no predicted samples. Use `zero_division` parameter to control this behavior.\n",
      "  _warn_prf(average, modifier, f\"{metric.capitalize()} is\", len(result))\n"
     ]
    }
   ],
   "source": [
    "modelNB = GaussianNB()                                                  # load model\n",
    "modelNB.fit(X_train, y_train)                                           # fit model on trainingsdata\n",
    "\n",
    "predictions = modelNB.predict(X_val)                                    # predict on validation data\n",
    "\n",
    "accuracy = accuracy_score(y_val, predictions)                           # calculate accuracy\n",
    "print(f'Accuracy: {accuracy * 100:.2f}%')                               # print results\n",
    "print(classification_report(y_val, predictions))"
   ]
  },
  {
   "cell_type": "markdown",
   "metadata": {},
   "source": [
    "# feature importance score"
   ]
  },
  {
   "cell_type": "code",
   "execution_count": null,
   "metadata": {},
   "outputs": [
    {
     "name": "stdout",
     "output_type": "stream",
     "text": [
      "[0.         0.00741697 0.         0.         0.         0.\n",
      " 0.         0.         0.         0.         0.         0.\n",
      " 0.         0.         0.         0.         0.         0.\n",
      " 0.         0.         0.         0.         0.         0.\n",
      " 0.         0.         0.         0.         0.         0.\n",
      " 0.         0.         0.         0.         0.         0.\n",
      " 0.         0.         0.         0.         0.         0.\n",
      " 0.         0.         0.         0.         0.         0.\n",
      " 0.         0.         0.         0.         0.         0.\n",
      " 0.         0.        ]\n"
     ]
    }
   ],
   "source": [
    "                                                                # found the idea on https://stackoverflow.com/questions/62933365/how-to-get-the-feature-importance-in-gaussian-naive-bayes\n",
    "imps = permutation_importance(modelNB, X_val, y_val)            #caclulate importance for the model for the training data\n",
    "print(imps.importances_mean)"
   ]
  },
  {
   "cell_type": "code",
   "execution_count": null,
   "metadata": {
    "id": "6H51yj9ogFhF"
   },
   "outputs": [],
   "source": []
  },
  {
   "cell_type": "markdown",
   "metadata": {},
   "source": [
    "# kNN"
   ]
  },
  {
   "cell_type": "code",
   "execution_count": null,
   "metadata": {
    "colab": {
     "base_uri": "https://localhost:8080/"
    },
    "id": "H0D5NG3SY-yE",
    "outputId": "c3877e99-d88e-4bc6-df01-ce7084cc90ea"
   },
   "outputs": [
    {
     "name": "stderr",
     "output_type": "stream",
     "text": [
      "c:\\Users\\Clara_einfach\\AppData\\Local\\Programs\\Python\\Python313\\Lib\\site-packages\\joblib\\externals\\loky\\backend\\context.py:136: UserWarning: Could not find the number of physical cores for the following reason:\n",
      "found 0 physical cores < 1\n",
      "Returning the number of logical cores instead. You can silence this warning by setting LOKY_MAX_CPU_COUNT to the number of cores you want to use.\n",
      "  warnings.warn(\n",
      "  File \"c:\\Users\\Clara_einfach\\AppData\\Local\\Programs\\Python\\Python313\\Lib\\site-packages\\joblib\\externals\\loky\\backend\\context.py\", line 282, in _count_physical_cores\n",
      "    raise ValueError(f\"found {cpu_count_physical} physical cores < 1\")\n"
     ]
    },
    {
     "name": "stdout",
     "output_type": "stream",
     "text": [
      "Accuracy: 94.29%\n",
      "              precision    recall  f1-score   support\n",
      "\n",
      "           A       0.94      0.94      0.94     30066\n",
      "           B       0.98      0.93      0.95     30807\n",
      "           C       0.94      0.94      0.94     32090\n",
      "           D       0.93      0.96      0.95     36068\n",
      "           E       0.96      0.98      0.97     33018\n",
      "           M       0.92      0.89      0.90     30132\n",
      "\n",
      "    accuracy                           0.94    192181\n",
      "   macro avg       0.94      0.94      0.94    192181\n",
      "weighted avg       0.94      0.94      0.94    192181\n",
      "\n"
     ]
    }
   ],
   "source": [
    "\n",
    "modelkNN=KNeighborsClassifier(n_neighbors=3)                    # model \n",
    "modelkNN.fit(X_train, y_train)                                  # model fit\n",
    "\n",
    "predictions = modelkNN.predict(X_val)                           # predict\n",
    "\n",
    "accuracy = accuracy_score(y_val, predictions)                   # calculate accuracy\n",
    "print(f'Accuracy: {accuracy * 100:.2f}%')                       # print\n",
    "print(classification_report(y_val, predictions))\n",
    "\n",
    "#run time onder 4 minutes for accuracy of .94"
   ]
  },
  {
   "cell_type": "markdown",
   "metadata": {},
   "source": [
    "feature importance"
   ]
  },
  {
   "cell_type": "code",
   "execution_count": 56,
   "metadata": {},
   "outputs": [],
   "source": [
    "from sklearn.tree import DecisionTreeClassifier\n"
   ]
  },
  {
   "cell_type": "code",
   "execution_count": 57,
   "metadata": {},
   "outputs": [
    {
     "name": "stdout",
     "output_type": "stream",
     "text": [
      "Accuracy: 87.98%\n",
      "\n",
      "Ranked Features:\n",
      "                Feature  Importance\n",
      "27      accel_y_var_rol    0.320551\n",
      "46      accel_z_rms_rol    0.140402\n",
      "39     accel_y_kurt_rol    0.070221\n",
      "45      accel_y_rms_rol    0.048284\n",
      "20  accel_x_SpecEnt_rol    0.046481\n",
      "1             timestamp    0.043257\n",
      "12      gyro_y_mean_rol    0.032992\n",
      "43      gyro_z_kurt_rol    0.022887\n",
      "21  accel_y_SpecEnt_rol    0.015369\n",
      "8      accel_x_mean_rol    0.014967\n",
      "9      accel_y_mean_rol    0.014706\n",
      "10     accel_z_mean_rol    0.014505\n",
      "44      accel_x_rms_rol    0.014495\n",
      "33     accel_y_skew_rol    0.014399\n",
      "38     accel_x_kurt_rol    0.013911\n",
      "47       gyro_x_rms_rol    0.012980\n",
      "0                  user    0.012749\n",
      "26      accel_x_var_rol    0.012702\n",
      "41      gyro_x_kurt_rol    0.012225\n",
      "19       gyro_z_std_rol    0.010847\n",
      "24   gyro_y_SpecEnt_rol    0.010411\n",
      "14      accel_x_std_rol    0.008904\n",
      "23   gyro_x_SpecEnt_rol    0.006421\n",
      "16      accel_z_std_rol    0.006407\n",
      "17       gyro_x_std_rol    0.006274\n",
      "22  accel_z_SpecEnt_rol    0.005882\n",
      "28      accel_z_var_rol    0.005581\n",
      "35      gyro_x_skew_rol    0.004609\n",
      "48       gyro_y_rms_rol    0.004515\n",
      "32     accel_x_skew_rol    0.004514\n",
      "18       gyro_y_std_rol    0.004486\n",
      "37      gyro_z_skew_rol    0.004289\n",
      "49       gyro_z_rms_rol    0.004205\n",
      "25   gyro_z_SpecEnt_rol    0.004195\n",
      "30       gyro_y_var_rol    0.004021\n",
      "40     accel_z_kurt_rol    0.003353\n",
      "34     accel_z_skew_rol    0.003119\n",
      "42      gyro_y_kurt_rol    0.002560\n",
      "15      accel_y_std_rol    0.002398\n",
      "11      gyro_x_mean_rol    0.002321\n",
      "52          accel_z_DFA    0.002122\n",
      "31       gyro_z_var_rol    0.002020\n",
      "36      gyro_y_skew_rol    0.001976\n",
      "13      gyro_z_mean_rol    0.001697\n",
      "29       gyro_x_var_rol    0.001173\n",
      "3               accel_y    0.000924\n",
      "51          accel_y_DFA    0.000724\n",
      "2               accel_x    0.000701\n",
      "4               accel_z    0.000469\n",
      "50          accel_x_DFA    0.000333\n",
      "55           gyro_z_DFA    0.000107\n",
      "54           gyro_y_DFA    0.000096\n",
      "5                gyro_x    0.000095\n",
      "6                gyro_y    0.000060\n",
      "7                gyro_z    0.000056\n",
      "53           gyro_x_DFA    0.000054\n"
     ]
    }
   ],
   "source": [
    "                                                                # Decision tree for feature ranking\n",
    "\n",
    "                                                                # Create and fit the model\n",
    "modelDT = DecisionTreeClassifier(random_state=42)\n",
    "modelDT.fit(X_train, y_train)\n",
    "                                                                # Make predictions\n",
    "predictions = modelDT.predict(X_val)\n",
    "\n",
    "                                                                # Calculate model accuracy\n",
    "accuracy = accuracy_score(y_val, predictions)\n",
    "print(f'Accuracy: {accuracy * 100:.2f}%')\n",
    "\n",
    "                                                                # calculate rank features\n",
    "feature_importances = modelDT.feature_importances_\n",
    "\n",
    "                                                                # Create a DataFrame\n",
    "feature_names = X_train.columns if hasattr(X_train, 'columns') else np.arange(X_train.shape[1])\n",
    "importance_df = pd.DataFrame({'Feature': feature_names, 'Importance': feature_importances})\n",
    "importance_df = importance_df.sort_values(by='Importance', ascending=False)\n",
    "\n",
    "                                                                # Print ranked features\n",
    "print(\"\\nRanked Features:\")\n",
    "print(importance_df)"
   ]
  },
  {
   "cell_type": "code",
   "execution_count": 58,
   "metadata": {},
   "outputs": [
    {
     "name": "stdout",
     "output_type": "stream",
     "text": [
      "['accel_y_var_rol', 'accel_z_rms_rol', 'accel_y_kurt_rol', 'accel_y_rms_rol', 'accel_x_SpecEnt_rol', 'timestamp']\n",
      "['accel_y_var_rol', 'accel_z_rms_rol', 'accel_y_kurt_rol', 'accel_y_rms_rol', 'accel_x_SpecEnt_rol', 'timestamp', 'gyro_y_mean_rol', 'gyro_z_kurt_rol', 'accel_y_SpecEnt_rol', 'accel_x_mean_rol']\n"
     ]
    }
   ],
   "source": [
    "                                                        # select features\n",
    "selfea = importance_df['Feature'][:6].tolist()          # create list with 6 feature names\n",
    "selfea10 = importance_df['Feature'][:10].tolist()       # create list with 10 feature names\n",
    "print(selfea)\n",
    "print(selfea10)"
   ]
  },
  {
   "cell_type": "markdown",
   "metadata": {},
   "source": [
    "# SVM on selected features \n",
    "because runs longer than kNN and NB is not helping in selecting features"
   ]
  },
  {
   "cell_type": "code",
   "execution_count": null,
   "metadata": {
    "id": "IMhn7I8VIjbQ"
   },
   "outputs": [
    {
     "name": "stdout",
     "output_type": "stream",
     "text": [
      "Accuracy: 69.20%\n",
      "classification report: \n",
      "              precision    recall  f1-score   support\n",
      "\n",
      "           A       0.55      0.66      0.60     30306\n",
      "           B       0.78      0.92      0.84     30807\n",
      "           C       0.53      0.29      0.37     32090\n",
      "           D       0.68      0.88      0.77     36068\n",
      "           E       0.88      0.72      0.79     33018\n",
      "           M       0.71      0.67      0.69     30132\n",
      "\n",
      "    accuracy                           0.69    192421\n",
      "   macro avg       0.69      0.69      0.68    192421\n",
      "weighted avg       0.69      0.69      0.68    192421\n",
      "\n"
     ]
    }
   ],
   "source": [
    "\n",
    "modelSVM=SVC(kernel='linear')                                                   #SVM with linear kernel\n",
    "modelSVM.fit(X_train[selfea][:sample_sizetrain], y_train[sample_sizetrain])\n",
    "\n",
    "predictions = modelSVM.predict(X_val[selfea])\n",
    "\n",
    "accuracy = accuracy_score(y_val, predictions)\n",
    "print(f'Accuracy: {accuracy * 100:.2f}%')\n",
    "# sample .1 and running longer than kNN on full set with same variables (9min) was stopped after 545min with 6 features \n",
    "# (smaple size .1) running time is under 1 minute (60%accuracy)\n",
    "# running on 10 features (and sample size of .1= was stopped after 185min)\n",
    "\n",
    "print('classification report: ')\n",
    "print(classification_report(y_val,predictions))"
   ]
  },
  {
   "cell_type": "markdown",
   "metadata": {},
   "source": [
    "# kNN on selected features"
   ]
  },
  {
   "cell_type": "code",
   "execution_count": null,
   "metadata": {},
   "outputs": [
    {
     "name": "stdout",
     "output_type": "stream",
     "text": [
      "Accuracy: 94.29%\n",
      "              precision    recall  f1-score   support\n",
      "\n",
      "           A       0.94      0.94      0.94     30066\n",
      "           B       0.98      0.93      0.95     30807\n",
      "           C       0.94      0.94      0.94     32090\n",
      "           D       0.93      0.96      0.95     36068\n",
      "           E       0.96      0.98      0.97     33018\n",
      "           M       0.92      0.89      0.90     30132\n",
      "\n",
      "    accuracy                           0.94    192181\n",
      "   macro avg       0.94      0.94      0.94    192181\n",
      "weighted avg       0.94      0.94      0.94    192181\n",
      "\n"
     ]
    }
   ],
   "source": [
    "modelkNN2=KNeighborsClassifier(n_neighbors=3)                           # kNN slected features 3 neighbors\n",
    "modelkNN2.fit(X_train[selfea], y_train)\n",
    "\n",
    "predictions = modelkNN2.predict(X_val[selfea])\n",
    "\n",
    "accuracy = accuracy_score(y_val, predictions)\n",
    "print(f'Accuracy: {accuracy * 100:.2f}%')\n",
    "print(classification_report(y_val, predictions))\n",
    "\n"
   ]
  },
  {
   "cell_type": "markdown",
   "metadata": {},
   "source": [
    "1,3,7, neighbors for kNN"
   ]
  },
  {
   "cell_type": "code",
   "execution_count": null,
   "metadata": {},
   "outputs": [
    {
     "name": "stdout",
     "output_type": "stream",
     "text": [
      "Accuracy: 94.27%\n"
     ]
    }
   ],
   "source": [
    "modelkNN3=KNeighborsClassifier(n_neighbors=1)                       # kNN selected features, neighbor = 1 \n",
    "modelkNN3.fit(X_train[selfea], y_train)\n",
    "\n",
    "predictions = modelkNN3.predict(X_val[selfea])\n",
    "\n",
    "accuracy = accuracy_score(y_val, predictions)\n",
    "print(f'Accuracy: {accuracy * 100:.2f}%')\n",
    "#print(classification_report(y_val, predictions))                   # for more details on evaluation"
   ]
  },
  {
   "cell_type": "code",
   "execution_count": null,
   "metadata": {},
   "outputs": [
    {
     "name": "stdout",
     "output_type": "stream",
     "text": [
      "Accuracy: 94.31%\n"
     ]
    }
   ],
   "source": [
    "modelkNN4=KNeighborsClassifier(n_neighbors=5)                       # kNN selected features, neighbors = 5\n",
    "modelkNN4.fit(X_train[selfea], y_train)\n",
    "\n",
    "predictions = modelkNN4.predict(X_val[selfea])\n",
    "\n",
    "accuracy = accuracy_score(y_val, predictions)\n",
    "print(f'Accuracy: {accuracy * 100:.2f}%')\n",
    "#print(classification_report(y_val, predictions))                   # for more details on evaluation"
   ]
  },
  {
   "cell_type": "code",
   "execution_count": null,
   "metadata": {},
   "outputs": [
    {
     "name": "stdout",
     "output_type": "stream",
     "text": [
      "Accuracy: 94.33%\n"
     ]
    }
   ],
   "source": [
    "modelkNN5=KNeighborsClassifier(n_neighbors=7)                       # kNN selected features, neighbors = 7\n",
    "modelkNN5.fit(X_train[selfea], y_train)\n",
    "\n",
    "predictions = modelkNN5.predict(X_val[selfea])\n",
    "\n",
    "accuracy = accuracy_score(y_val, predictions)\n",
    "print(f'Accuracy: {accuracy * 100:.2f}%')\n",
    "#print(classification_report(y_val, predictions))                   # for more details on evaluation"
   ]
  },
  {
   "cell_type": "code",
   "execution_count": null,
   "metadata": {},
   "outputs": [
    {
     "name": "stdout",
     "output_type": "stream",
     "text": [
      "Accuracy: 94.37%\n"
     ]
    }
   ],
   "source": [
    "modelkNN6=KNeighborsClassifier(n_neighbors=10)          \n",
    "modelkNN6.fit(X_train[selfea], y_train)\n",
    "\n",
    "predictions = modelkNN6.predict(X_val[selfea])\n",
    "\n",
    "accuracy = accuracy_score(y_val, predictions)\n",
    "print(f'Accuracy: {accuracy * 100:.2f}%')\n",
    "#print(classification_report(y_val, predictions))                   # for more details on evaluation\n",
    "\n",
    "\n",
    "# best model performance with k = 10 and selected features, running time with 5.6 seconcs fast (94%)"
   ]
  },
  {
   "cell_type": "markdown",
   "metadata": {},
   "source": [
    "# Run on Test data\n"
   ]
  },
  {
   "cell_type": "code",
   "execution_count": 64,
   "metadata": {
    "id": "6sm8ID2lI_9K"
   },
   "outputs": [
    {
     "name": "stdout",
     "output_type": "stream",
     "text": [
      "Accuracy: 18.26%\n"
     ]
    },
    {
     "name": "stderr",
     "output_type": "stream",
     "text": [
      "c:\\Users\\Clara_einfach\\AppData\\Local\\Programs\\Python\\Python313\\Lib\\site-packages\\sklearn\\metrics\\_classification.py:1531: UndefinedMetricWarning: Precision is ill-defined and being set to 0.0 in labels with no predicted samples. Use `zero_division` parameter to control this behavior.\n",
      "  _warn_prf(average, modifier, f\"{metric.capitalize()} is\", len(result))\n",
      "c:\\Users\\Clara_einfach\\AppData\\Local\\Programs\\Python\\Python313\\Lib\\site-packages\\sklearn\\metrics\\_classification.py:1531: UndefinedMetricWarning: Precision is ill-defined and being set to 0.0 in labels with no predicted samples. Use `zero_division` parameter to control this behavior.\n",
      "  _warn_prf(average, modifier, f\"{metric.capitalize()} is\", len(result))\n"
     ]
    },
    {
     "name": "stdout",
     "output_type": "stream",
     "text": [
      "              precision    recall  f1-score   support\n",
      "\n",
      "           A       0.00      0.00      0.00     30077\n",
      "           B       0.00      0.00      0.00     30817\n",
      "           C       0.18      0.64      0.28     32100\n",
      "           D       0.19      0.41      0.26     36079\n",
      "           E       0.00      0.00      0.00     33027\n",
      "           M       0.00      0.00      0.00     30145\n",
      "\n",
      "    accuracy                           0.18    192245\n",
      "   macro avg       0.06      0.17      0.09    192245\n",
      "weighted avg       0.07      0.18      0.10    192245\n",
      "\n"
     ]
    },
    {
     "name": "stderr",
     "output_type": "stream",
     "text": [
      "c:\\Users\\Clara_einfach\\AppData\\Local\\Programs\\Python\\Python313\\Lib\\site-packages\\sklearn\\metrics\\_classification.py:1531: UndefinedMetricWarning: Precision is ill-defined and being set to 0.0 in labels with no predicted samples. Use `zero_division` parameter to control this behavior.\n",
      "  _warn_prf(average, modifier, f\"{metric.capitalize()} is\", len(result))\n"
     ]
    }
   ],
   "source": [
    "# Naive Bayes\n",
    "predictions = modelNB.predict(X_test)\n",
    "\n",
    "accuracy = accuracy_score(y_test, predictions)\n",
    "print(f'Accuracy: {accuracy * 100:.2f}%')\n",
    "print(classification_report(y_test, predictions))"
   ]
  },
  {
   "cell_type": "code",
   "execution_count": 65,
   "metadata": {},
   "outputs": [
    {
     "name": "stdout",
     "output_type": "stream",
     "text": [
      "Accuracy: 78.08%\n",
      "              precision    recall  f1-score   support\n",
      "\n",
      "           A       0.81      0.55      0.66     30077\n",
      "           B       0.67      0.86      0.75     30817\n",
      "           C       0.92      0.86      0.89     32100\n",
      "           D       0.85      0.59      0.70     36079\n",
      "           E       0.68      0.98      0.80     33027\n",
      "           M       0.85      0.86      0.86     30145\n",
      "\n",
      "    accuracy                           0.78    192245\n",
      "   macro avg       0.80      0.78      0.78    192245\n",
      "weighted avg       0.80      0.78      0.78    192245\n",
      "\n"
     ]
    }
   ],
   "source": [
    "# kNN \n",
    "predictions = modelkNN.predict(X_test)\n",
    "\n",
    "accuracy = accuracy_score(y_test, predictions)\n",
    "print(f'Accuracy: {accuracy * 100:.2f}%')\n",
    "print(classification_report(y_test, predictions))\n"
   ]
  },
  {
   "cell_type": "code",
   "execution_count": 66,
   "metadata": {},
   "outputs": [
    {
     "name": "stdout",
     "output_type": "stream",
     "text": [
      "Accuracy: 78.08%\n",
      "              precision    recall  f1-score   support\n",
      "\n",
      "           A       0.81      0.55      0.66     30077\n",
      "           B       0.67      0.86      0.75     30817\n",
      "           C       0.92      0.86      0.89     32100\n",
      "           D       0.85      0.59      0.70     36079\n",
      "           E       0.68      0.98      0.80     33027\n",
      "           M       0.85      0.86      0.86     30145\n",
      "\n",
      "    accuracy                           0.78    192245\n",
      "   macro avg       0.80      0.78      0.78    192245\n",
      "weighted avg       0.80      0.78      0.78    192245\n",
      "\n"
     ]
    }
   ],
   "source": [
    "# kNN on selected features (n = 6) (best model)\n",
    "modelkNN2=KNeighborsClassifier(n_neighbors=3)\n",
    "modelkNN2.fit(X_train[selfea], y_train)\n",
    "\n",
    "\n",
    "predictionskNN2 = modelkNN2.predict(X_test[selfea])\n",
    "\n",
    "accuracy = accuracy_score(y_test, predictionskNN2)\n",
    "print(f'Accuracy: {accuracy * 100:.2f}%')\n",
    "print(classification_report(y_test, predictionskNN2))\n"
   ]
  },
  {
   "cell_type": "code",
   "execution_count": 67,
   "metadata": {},
   "outputs": [
    {
     "name": "stdout",
     "output_type": "stream",
     "text": [
      "Accuracy: 78.21%\n",
      "              precision    recall  f1-score   support\n",
      "\n",
      "           A       0.81      0.55      0.66     30077\n",
      "           B       0.68      0.86      0.75     30817\n",
      "           C       0.92      0.86      0.89     32100\n",
      "           D       0.85      0.60      0.70     36079\n",
      "           E       0.69      0.98      0.81     33027\n",
      "           M       0.85      0.86      0.86     30145\n",
      "\n",
      "    accuracy                           0.78    192245\n",
      "   macro avg       0.80      0.78      0.78    192245\n",
      "weighted avg       0.80      0.78      0.78    192245\n",
      "\n"
     ]
    }
   ],
   "source": [
    "# kNN on selected features (n = 6) (best model)\n",
    "modelkNN2=KNeighborsClassifier(n_neighbors=10)\n",
    "modelkNN2.fit(X_train[selfea], y_train)\n",
    "\n",
    "\n",
    "predictionskNN2 = modelkNN2.predict(X_test[selfea])\n",
    "\n",
    "accuracy = accuracy_score(y_test, predictionskNN2)\n",
    "print(f'Accuracy: {accuracy * 100:.2f}%')\n",
    "print(classification_report(y_test, predictionskNN2))\n",
    "#78.05 for 3 78,66 for 7, should be tested on the test set. "
   ]
  },
  {
   "cell_type": "code",
   "execution_count": null,
   "metadata": {},
   "outputs": [
    {
     "name": "stdout",
     "output_type": "stream",
     "text": [
      "Accuracy: 78.04%\n",
      "              precision    recall  f1-score   support\n",
      "\n",
      "           A       0.81      0.55      0.66     30317\n",
      "           B       0.67      0.85      0.75     30817\n",
      "           C       0.92      0.86      0.89     32100\n",
      "           D       0.85      0.59      0.70     36079\n",
      "           E       0.68      0.98      0.80     33027\n",
      "           M       0.85      0.86      0.86     30145\n",
      "\n",
      "    accuracy                           0.78    192485\n",
      "   macro avg       0.80      0.78      0.78    192485\n",
      "weighted avg       0.80      0.78      0.78    192485\n",
      "\n"
     ]
    }
   ],
   "source": [
    "# kNN on selected features (n = 10)\n",
    "modelkNN2=KNeighborsClassifier(n_neighbors=3)\n",
    "modelkNN2.fit(X_train[selfea10], y_train)\n",
    "\n",
    "predictions = modelkNN2.predict(X_test[selfea10])\n",
    "\n",
    "accuracy = accuracy_score(y_test, predictions)\n",
    "print(f'Accuracy: {accuracy * 100:.2f}%')\n",
    "print(classification_report(y_test, predictions))\n",
    "#78.04% for k=3\n",
    "#78.18%  for k=10"
   ]
  },
  {
   "cell_type": "code",
   "execution_count": null,
   "metadata": {},
   "outputs": [
    {
     "name": "stdout",
     "output_type": "stream",
     "text": [
      "Accuracy: 67.46%\n",
      "              precision    recall  f1-score   support\n",
      "\n",
      "           A       0.53      0.63      0.57     30317\n",
      "           B       0.77      0.90      0.83     30817\n",
      "           C       0.48      0.28      0.35     32100\n",
      "           D       0.67      0.88      0.76     36079\n",
      "           E       0.91      0.72      0.80     33027\n",
      "           M       0.66      0.62      0.64     30145\n",
      "\n",
      "    accuracy                           0.67    192485\n",
      "   macro avg       0.67      0.67      0.66    192485\n",
      "weighted avg       0.67      0.67      0.66    192485\n",
      "\n"
     ]
    }
   ],
   "source": [
    "# SVM (trainend on sample n=.5 (? not added to X_test) and selected features n =6)\n",
    "\n",
    "predictions = modelSVM.predict(X_test[selfea][:sample_size])\n",
    "\n",
    "accuracy = accuracy_score(y_test, predictions)\n",
    "print(f'Accuracy: {accuracy * 100:.2f}%')\n",
    "print(classification_report(y_test, predictions))\n"
   ]
  },
  {
   "cell_type": "code",
   "execution_count": null,
   "metadata": {},
   "outputs": [],
   "source": [
    "# SVM (trainend on sample .5 and selected features = 10)\n",
    "'''\n",
    "modelSVM2=SVC(kernel='linear')\n",
    "modelSVM2.fit(X_train[selfea10][:sample_size], y_train[:sample_size])\n",
    "\n",
    "predictions = modelSVM2.predict(X_test[selfea10][:sample_size])\n",
    "\n",
    "accuracy = accuracy_score(y_test, predictions)\n",
    "print(f'Accuracy: {accuracy * 100:.2f}%')\n",
    "print(classification_report(y_test, predictions))\n",
    "# >300min'''#>800min>3377min"
   ]
  },
  {
   "cell_type": "markdown",
   "metadata": {},
   "source": [
    "test dt on test for feature ranking"
   ]
  },
  {
   "cell_type": "code",
   "execution_count": null,
   "metadata": {},
   "outputs": [
    {
     "name": "stdout",
     "output_type": "stream",
     "text": [
      "Accuracy: 85.43%\n",
      "              precision    recall  f1-score   support\n",
      "\n",
      "           A       0.86      0.79      0.82     30317\n",
      "           B       0.87      0.87      0.87     30817\n",
      "           C       0.75      0.81      0.78     32100\n",
      "           D       0.91      0.90      0.91     36079\n",
      "           E       0.93      0.93      0.93     33027\n",
      "           M       0.80      0.81      0.80     30145\n",
      "\n",
      "    accuracy                           0.85    192485\n",
      "   macro avg       0.85      0.85      0.85    192485\n",
      "weighted avg       0.86      0.85      0.85    192485\n",
      "\n",
      "\n",
      "Ranked Features:\n",
      "                Feature  Importance\n",
      "21      accel_y_var_rol    0.182845\n",
      "40      accel_z_rms_rol    0.141509\n",
      "15      accel_y_std_rol    0.140494\n",
      "33     accel_y_kurt_rol    0.070396\n",
      "39      accel_y_rms_rol    0.047314\n",
      "44  accel_x_SpecEnt_rol    0.046604\n",
      "1             timestamp    0.042596\n",
      "12      gyro_y_mean_rol    0.032995\n",
      "37      gyro_z_kurt_rol    0.022743\n",
      "45  accel_y_SpecEnt_rol    0.015370\n",
      "8      accel_x_mean_rol    0.015063\n",
      "10     accel_z_mean_rol    0.014989\n",
      "9      accel_y_mean_rol    0.014916\n",
      "38      accel_x_rms_rol    0.014808\n",
      "20      accel_x_var_rol    0.014768\n",
      "27     accel_y_skew_rol    0.014224\n",
      "32     accel_x_kurt_rol    0.014116\n",
      "41       gyro_x_rms_rol    0.013261\n",
      "0                  user    0.013185\n",
      "35      gyro_x_kurt_rol    0.012482\n",
      "48   gyro_y_SpecEnt_rol    0.010228\n",
      "22      accel_z_var_rol    0.009458\n",
      "25       gyro_z_var_rol    0.008950\n",
      "14      accel_x_std_rol    0.006229\n",
      "47   gyro_x_SpecEnt_rol    0.006137\n",
      "46  accel_z_SpecEnt_rol    0.006027\n",
      "43       gyro_z_rms_rol    0.005665\n",
      "17       gyro_x_std_rol    0.005267\n",
      "42       gyro_y_rms_rol    0.004883\n",
      "29      gyro_x_skew_rol    0.004818\n",
      "24       gyro_y_var_rol    0.004641\n",
      "26     accel_x_skew_rol    0.004609\n",
      "49   gyro_z_SpecEnt_rol    0.004363\n",
      "31      gyro_z_skew_rol    0.004100\n",
      "18       gyro_y_std_rol    0.003462\n",
      "28     accel_z_skew_rol    0.003292\n",
      "34     accel_z_kurt_rol    0.003255\n",
      "16      accel_z_std_rol    0.003114\n",
      "36      gyro_y_kurt_rol    0.002524\n",
      "19       gyro_z_std_rol    0.002266\n",
      "11      gyro_x_mean_rol    0.002246\n",
      "23       gyro_x_var_rol    0.002030\n",
      "30      gyro_y_skew_rol    0.001982\n",
      "13      gyro_z_mean_rol    0.001444\n",
      "3               accel_y    0.001044\n",
      "2               accel_x    0.000969\n",
      "4               accel_z    0.000594\n",
      "52          accel_z_DFA    0.000574\n",
      "51          accel_y_DFA    0.000524\n",
      "50          accel_x_DFA    0.000187\n",
      "7                gyro_z    0.000108\n",
      "5                gyro_x    0.000081\n",
      "55           gyro_z_DFA    0.000079\n",
      "54           gyro_y_DFA    0.000068\n",
      "6                gyro_y    0.000056\n",
      "53           gyro_x_DFA    0.000049\n"
     ]
    }
   ],
   "source": [
    "# Create and fit the model\n",
    "modelDT = DecisionTreeClassifier(random_state=42)\n",
    "modelDT.fit(X_train, y_train)\n",
    "\n",
    "# Make predictions\n",
    "predictions = modelDT.predict(X_test)\n",
    "\n",
    "# Calculate accuracy\n",
    "accuracy = accuracy_score(y_test, predictions)\n",
    "print(f'Accuracy: {accuracy * 100:.2f}%')\n",
    "\n",
    "# Print classification report\n",
    "print(classification_report(y_test, predictions))\n",
    "\n",
    "# Obtain feature importances\n",
    "feature_importances = modelDT.feature_importances_\n",
    "\n",
    "# Create a DataFrame to rank features\n",
    "feature_names = X_train.columns if hasattr(X_train, 'columns') else np.arange(X_train.shape[1])\n",
    "importance_df = pd.DataFrame({'Feature': feature_names, 'Importance': feature_importances})\n",
    "importance_df = importance_df.sort_values(by='Importance', ascending=False)\n",
    "\n",
    "# Print ranked features\n",
    "print(\"\\nRanked Features:\")\n",
    "print(importance_df)\n",
    "\n",
    "#run time 175 minutes for .85"
   ]
  },
  {
   "cell_type": "code",
   "execution_count": null,
   "metadata": {},
   "outputs": [
    {
     "name": "stdout",
     "output_type": "stream",
     "text": [
      "Accuracy: 76.96%\n",
      "              precision    recall  f1-score   support\n",
      "\n",
      "           A       0.75      0.68      0.71     30317\n",
      "           B       0.86      0.85      0.85     30817\n",
      "           C       0.60      0.64      0.62     32100\n",
      "           D       0.87      0.83      0.85     36079\n",
      "           E       0.83      0.88      0.86     33027\n",
      "           M       0.70      0.72      0.71     30145\n",
      "\n",
      "    accuracy                           0.77    192485\n",
      "   macro avg       0.77      0.77      0.77    192485\n",
      "weighted avg       0.77      0.77      0.77    192485\n",
      "\n"
     ]
    }
   ],
   "source": [
    "# Create and fit the model\n",
    "modelDT3 = DecisionTreeClassifier(random_state=42)\n",
    "modelDT3.fit(X_train[selfea], y_train)\n",
    "\n",
    "# Make predictions\n",
    "predictionsDT3 = modelDT3.predict(X_test[selfea])\n",
    "\n",
    "# Calculate accuracy\n",
    "accuracy = accuracy_score(y_test, predictionsDT3)\n",
    "print(f'Accuracy: {accuracy * 100:.2f}%')\n",
    "\n",
    "# Print classification report\n",
    "print(classification_report(y_test, predictionsDT3))\n",
    "\n",
    "#83% for selfea10\n",
    "#77% for selfea"
   ]
  },
  {
   "cell_type": "markdown",
   "metadata": {},
   "source": [
    "# Visualizing results"
   ]
  },
  {
   "cell_type": "code",
   "execution_count": null,
   "metadata": {},
   "outputs": [],
   "source": [
    "# confusion matrix heatmap\n"
   ]
  },
  {
   "cell_type": "code",
   "execution_count": 58,
   "metadata": {},
   "outputs": [],
   "source": [
    "import seaborn as sns"
   ]
  },
  {
   "cell_type": "code",
   "execution_count": 105,
   "metadata": {},
   "outputs": [
    {
     "name": "stdout",
     "output_type": "stream",
     "text": [
      "Confusion Matrix: \n",
      "[[21598  3591  2949   597   165  1417]\n",
      " [  765 27385  2088   158    23   398]\n",
      " [ 1769  1375 26011   836   320  1789]\n",
      " [  271   314   985 30708  3221   580]\n",
      " [  253    77   344  1732 29649   972]\n",
      " [ 1510   418  2296   671  1128 24122]]\n"
     ]
    },
    {
     "data": {
      "image/png": "[encoded data removed]",
      "text/plain": [
       "<Figure size 1000x800 with 2 Axes>"
      ]
     },
     "metadata": {},
     "output_type": "display_data"
    }
   ],
   "source": [
    "#confusion matrix for decision tree on test set, features=10\n",
    "print('Confusion Matrix: ')\n",
    "cm = confusion_matrix(y_test,predictionsDT3)\n",
    "print(cm)\n",
    "\n",
    "plt.figure(figsize=(10, 8))\n",
    "sns.heatmap(cm, annot=True, fmt='d', cmap='Blues', \n",
    "            xticklabels=np.unique(y_test), \n",
    "            yticklabels=np.unique(y_test))\n",
    "\n",
    "plt.ylabel('True Label')\n",
    "plt.xlabel('Predicted Label')\n",
    "plt.title('Confusion Matrix Heatmap')\n",
    "plt.show()"
   ]
  },
  {
   "cell_type": "code",
   "execution_count": 102,
   "metadata": {},
   "outputs": [
    {
     "name": "stdout",
     "output_type": "stream",
     "text": [
      "              precision    recall  f1-score   support\n",
      "\n",
      "           A       0.73      0.75      0.74     30317\n",
      "           B       0.86      0.88      0.87     30817\n",
      "           C       0.63      0.64      0.64     32100\n",
      "           D       0.90      0.86      0.88     36079\n",
      "           E       0.88      0.88      0.88     33027\n",
      "           M       0.72      0.72      0.72     30145\n",
      "\n",
      "    accuracy                           0.79    192485\n",
      "   macro avg       0.79      0.79      0.79    192485\n",
      "weighted avg       0.79      0.79      0.79    192485\n",
      "\n"
     ]
    }
   ],
   "source": [
    "print(classification_report(y_test, predictionskNN2))"
   ]
  },
  {
   "cell_type": "code",
   "execution_count": null,
   "metadata": {},
   "outputs": [
    {
     "name": "stdout",
     "output_type": "stream",
     "text": [
      "Confusion Matrix: \n",
      "[[22589   894  4452   173   193  2016]\n",
      " [ 1069 27200  1701   175   152   520]\n",
      " [ 4706  2439 20558   534   212  3651]\n",
      " [  371   466  1144 30863  2446   789]\n",
      " [   94    10   299  2012 29193  1419]\n",
      " [ 2126   506  4353   500   998 21662]]\n"
     ]
    },
    {
     "data": {
      "image/png": "[encoded data removed]",
      "text/plain": [
       "<Figure size 1000x800 with 2 Axes>"
      ]
     },
     "metadata": {},
     "output_type": "display_data"
    }
   ],
   "source": [
    "# confusion matrix for kNN2 feature=6 neighbors=10\n",
    "\n",
    "print('Confusion Matrix: ')\n",
    "cm = confusion_matrix(y_test,predictionskNN2)\n",
    "print(cm)\n",
    "\n",
    "plt.figure(figsize=(10, 8))\n",
    "sns.heatmap(cm, annot=True, fmt='d', cmap='Blues', \n",
    "            xticklabels=np.unique(y_test), \n",
    "            yticklabels=np.unique(y_test))\n",
    "\n",
    "plt.ylabel('True Label')\n",
    "plt.xlabel('Predicted Label')\n",
    "plt.title('Confusion Matrix Heatmap')\n",
    "plt.show()"
   ]
  },
  {
   "cell_type": "markdown",
   "metadata": {},
   "source": [
    "feature importance\n"
   ]
  },
  {
   "cell_type": "code",
   "execution_count": 60,
   "metadata": {},
   "outputs": [
    {
     "data": {
      "image/png": "[encoded data removed]",
      "text/plain": [
       "<Figure size 1200x800 with 1 Axes>"
      ]
     },
     "metadata": {},
     "output_type": "display_data"
    }
   ],
   "source": [
    "# visualize all features\n",
    "plt.figure(figsize=(12, 8))\n",
    "plt.barh(importance_df['Feature'], importance_df['Importance'], color='steelblue')\n",
    "plt.xlabel('Importance')\n",
    "plt.title('Feature Importance 56/56')\n",
    "plt.gca().invert_yaxis()  # Invert y-axis to have the highest importance at the top\n",
    "plt.grid(axis='x')\n",
    "plt.show()"
   ]
  },
  {
   "cell_type": "markdown",
   "metadata": {},
   "source": [
    "#offener link https://arno.uvt.nl/show.cgi?fid=149145 "
   ]
  },
  {
   "cell_type": "code",
   "execution_count": 61,
   "metadata": {},
   "outputs": [
    {
     "data": {
      "image/png": "[encoded data removed]",
      "text/plain": [
       "<Figure size 800x400 with 1 Axes>"
      ]
     },
     "metadata": {},
     "output_type": "display_data"
    }
   ],
   "source": [
    "# visualize Top 10 features\n",
    "plt.figure(figsize=(8, 4))\n",
    "plt.barh(importance_df['Feature'][:10], importance_df['Importance'][:10], color='steelblue')\n",
    "plt.xlabel('Importance', fontsize=14)\n",
    "plt.title('Feature Importance 10/56', fontsize=16)\n",
    "plt.gca().invert_yaxis()  # Invert y-axis to have the highest importance at the top\n",
    "plt.grid(axis='x')\n",
    "plt.show()"
   ]
  },
  {
   "cell_type": "markdown",
   "metadata": {},
   "source": [
    "# research on SVM"
   ]
  },
  {
   "cell_type": "code",
   "execution_count": null,
   "metadata": {},
   "outputs": [],
   "source": [
    "from sklearn.model_selection import learning_curve\n",
    " "
   ]
  },
  {
   "cell_type": "code",
   "execution_count": null,
   "metadata": {},
   "outputs": [],
   "source": [
    "# the used SVM model\n",
    "\n",
    "'''modelSVM=SVC(kernel='linear')\n",
    "modelSVM.fit(X_train[selfea][:sample_size], y_train[:sample_size])\n",
    "\n",
    "predictions = modelSVM.predict(X_val[selfea])\n",
    "\n",
    "#print('Confusion Matric:')\n",
    "#print(confusion_matrix(y_val,predictions))\n",
    "accuracy = accuracy_score(y_val, predictions)\n",
    "print(f'Accuracy: {accuracy * 100:.2f}%')\n",
    "#sample .1 and running longer than kNN on full set with same variables (9min) was stopped after 545min with 6 features (smaple size .1) running time is under 1 minute (60%accuracy)\n",
    "# running on 10 features (and sample size of .1= was stopped after 185min)\n",
    "\n",
    "print('classification report: ')\n",
    "print(classification_report(y_val,predictions))'''"
   ]
  },
  {
   "cell_type": "code",
   "execution_count": null,
   "metadata": {},
   "outputs": [],
   "source": []
  },
  {
   "cell_type": "code",
   "execution_count": null,
   "metadata": {},
   "outputs": [],
   "source": []
  },
  {
   "cell_type": "code",
   "execution_count": null,
   "metadata": {},
   "outputs": [],
   "source": []
  }
 ],
 "metadata": {
  "colab": {
   "provenance": []
  },
  "kernelspec": {
   "display_name": "Python 3",
   "name": "python3"
  },
  "language_info": {
   "codemirror_mode": {
    "name": "ipython",
    "version": 3
   },
   "file_extension": ".py",
   "mimetype": "text/x-python",
   "name": "python",
   "nbconvert_exporter": "python",
   "pygments_lexer": "ipython3",
   "version": "3.13.0"
  }
 },
 "nbformat": 4,
 "nbformat_minor": 0
}
